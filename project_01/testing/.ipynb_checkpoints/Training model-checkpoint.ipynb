{
 "cells": [
  {
   "cell_type": "markdown",
   "metadata": {},
   "source": [
    "# Training Gesture Model\n"
   ]
  },
  {
   "cell_type": "markdown",
   "metadata": {},
   "source": [
    "Import necessary modules and define wavelet function"
   ]
  },
  {
   "cell_type": "code",
   "execution_count": 1,
   "metadata": {},
   "outputs": [],
   "source": [
    "import pandas as pd\n",
    "import numpy as np\n",
    "import matplotlib.pyplot as plt\n",
    "import tensorflow as tf"
   ]
  },
  {
   "cell_type": "code",
   "execution_count": 2,
   "metadata": {},
   "outputs": [],
   "source": [
    "import pywt\n",
    "def wavelet(data, level, wavelet):\n",
    "    (cA, cD) = pywt.dwt(data, wavelet=wavelet)\n",
    "    for i in range(1, level):\n",
    "        (cA, cD) = pywt.dwt(cA, wavelet=wavelet)\n",
    "    return cA, cD"
   ]
  },
  {
   "cell_type": "markdown",
   "metadata": {},
   "source": [
    "## Import data and perform wavelet transform"
   ]
  },
  {
   "cell_type": "code",
   "execution_count": 62,
   "metadata": {
    "scrolled": true
   },
   "outputs": [],
   "source": [
    "gestures = [\n",
    "    0,\n",
    "    1,\n",
    "    2,\n",
    "    3,\n",
    "    4,\n",
    "    5,\n",
    "    6,\n",
    "    7,\n",
    "    8,\n",
    "    9,\n",
    "    10\n",
    "]\n",
    "num_samples = 50\n",
    "num_gestures = len(gestures)\n",
    "\n",
    "fulldata = pd.DataFrame(columns = ['aX','aY','aZ','gX','gY','gZ'])\n",
    "fullwavedata = pd.DataFrame(columns = ['aX_A1','aX_D1','aY_A1','aY_D1','aZ_A1','aZ_D1','gX_A1','gX_D1','gY_A1','gY_D1','gZ_A1','gZ_D1'])#,\n",
    "                                       #'aX_A2','aX_D2','aY_A2','aY_D2','aZ_A2','aZ_D2','gX_A2','gX_D2','gY_A2','gY_D2','gZ_A2','gZ_D2'])\n",
    "formatdata = pd.DataFrame()\n",
    "formatwavedata = pd.DataFrame()\n",
    "\n",
    "labels = []\n",
    "\n",
    "for idx, gesture in enumerate(gestures):\n",
    "    for i in range(1, num_samples+1):\n",
    "        filepath = 'hand/hand_{0}_{1}.csv'.format(gesture, i)\n",
    "        data = pd.read_csv(filepath, index_col=False)\n",
    "        wavedata = pd.DataFrame()\n",
    "        \n",
    "        level1 = 3\n",
    "        wavetype1 = 'rbio2.2'\n",
    "        #Start creating the dataframe with transformed data\n",
    "        wavedata['aX_A1'], wavedata['aX_D1'] = wavelet(data['aX'], level=level1, wavelet=wavetype1)\n",
    "        wavedata['aY_A1'], wavedata['aY_D1'] = wavelet(data['aY'], level=level1, wavelet=wavetype1)\n",
    "        wavedata['aZ_A1'], wavedata['aZ_D1'] = wavelet(data['aZ'], level=level1, wavelet=wavetype1)\n",
    "\n",
    "        wavedata['gX_A1'], wavedata['gX_D1'] = wavelet(data['gX'], level=level1, wavelet=wavetype1)\n",
    "        wavedata['gY_A1'], wavedata['gY_D1'] = wavelet(data['gY'], level=level1, wavelet=wavetype1)\n",
    "        wavedata['gZ_A1'], wavedata['gZ_D1'] = wavelet(data['gZ'], level=level1, wavelet=wavetype1)\n",
    "        \n",
    "        level2 = 3\n",
    "        wavetype2 = 'rbio2.2'\n",
    "\n",
    "#        wavedata['aX_A2'], wavedata['aX_D2'] = wavelet(data['aX'], level=level2, wavelet=wavetype2)\n",
    "#        wavedata['aY_A2'], wavedata['aY_D2'] = wavelet(data['aY'], level=level2, wavelet=wavetype2)\n",
    "#        wavedata['aZ_A2'], wavedata['aZ_D2'] = wavelet(data['aZ'], level=level2, wavelet=wavetype2)\n",
    "#\n",
    "#        wavedata['gX_A2'], wavedata['gX_D2'] = wavelet(data['gX'], level=level2, wavelet=wavetype2)\n",
    "#        wavedata['gY_A2'], wavedata['gY_D2'] = wavelet(data['gY'], level=level2, wavelet=wavetype2)\n",
    "#        wavedata['gZ_A2'], wavedata['gZ_D2'] = wavelet(data['gZ'], level=level2, wavelet=wavetype2)\n",
    "        \n",
    "        wavelen = len(wavedata)\n",
    "        \n",
    "        #create a full dataframe with all the data\n",
    "        fullwavedata = fullwavedata.append(wavedata)\n",
    "        fulldata = fulldata.append(data)\n",
    "        label = gesture\n",
    "        labels.append(label)\n",
    "        del data, wavedata\n",
    "\n",
    "labels = np.array(labels)\n"
   ]
  },
  {
   "cell_type": "markdown",
   "metadata": {},
   "source": [
    "## Full Data Processing"
   ]
  },
  {
   "cell_type": "markdown",
   "metadata": {},
   "source": [
    "Normalize data"
   ]
  },
  {
   "cell_type": "code",
   "execution_count": 134,
   "metadata": {},
   "outputs": [
    {
     "data": {
      "text/html": [
       "<div>\n",
       "<style scoped>\n",
       "    .dataframe tbody tr th:only-of-type {\n",
       "        vertical-align: middle;\n",
       "    }\n",
       "\n",
       "    .dataframe tbody tr th {\n",
       "        vertical-align: top;\n",
       "    }\n",
       "\n",
       "    .dataframe thead th {\n",
       "        text-align: right;\n",
       "    }\n",
       "</style>\n",
       "<table border=\"1\" class=\"dataframe\">\n",
       "  <thead>\n",
       "    <tr style=\"text-align: right;\">\n",
       "      <th></th>\n",
       "      <th>aX</th>\n",
       "      <th>aY</th>\n",
       "      <th>aZ</th>\n",
       "      <th>gX</th>\n",
       "      <th>gY</th>\n",
       "      <th>gZ</th>\n",
       "    </tr>\n",
       "  </thead>\n",
       "  <tbody>\n",
       "    <tr>\n",
       "      <th>count</th>\n",
       "      <td>192500.000000</td>\n",
       "      <td>192500.000000</td>\n",
       "      <td>192500.000000</td>\n",
       "      <td>192500.000000</td>\n",
       "      <td>192500.000000</td>\n",
       "      <td>192500.000000</td>\n",
       "    </tr>\n",
       "    <tr>\n",
       "      <th>mean</th>\n",
       "      <td>0.400953</td>\n",
       "      <td>0.508082</td>\n",
       "      <td>0.541712</td>\n",
       "      <td>0.499318</td>\n",
       "      <td>0.427822</td>\n",
       "      <td>0.502331</td>\n",
       "    </tr>\n",
       "    <tr>\n",
       "      <th>std</th>\n",
       "      <td>0.074306</td>\n",
       "      <td>0.068467</td>\n",
       "      <td>0.085276</td>\n",
       "      <td>0.096042</td>\n",
       "      <td>0.095247</td>\n",
       "      <td>0.095711</td>\n",
       "    </tr>\n",
       "    <tr>\n",
       "      <th>min</th>\n",
       "      <td>0.000000</td>\n",
       "      <td>0.000000</td>\n",
       "      <td>0.000000</td>\n",
       "      <td>0.000000</td>\n",
       "      <td>0.000000</td>\n",
       "      <td>0.000000</td>\n",
       "    </tr>\n",
       "    <tr>\n",
       "      <th>25%</th>\n",
       "      <td>0.377844</td>\n",
       "      <td>0.486061</td>\n",
       "      <td>0.488569</td>\n",
       "      <td>0.484298</td>\n",
       "      <td>0.406824</td>\n",
       "      <td>0.492653</td>\n",
       "    </tr>\n",
       "    <tr>\n",
       "      <th>50%</th>\n",
       "      <td>0.388312</td>\n",
       "      <td>0.508553</td>\n",
       "      <td>0.539899</td>\n",
       "      <td>0.505739</td>\n",
       "      <td>0.420533</td>\n",
       "      <td>0.502602</td>\n",
       "    </tr>\n",
       "    <tr>\n",
       "      <th>75%</th>\n",
       "      <td>0.411963</td>\n",
       "      <td>0.535409</td>\n",
       "      <td>0.591876</td>\n",
       "      <td>0.521076</td>\n",
       "      <td>0.432317</td>\n",
       "      <td>0.517067</td>\n",
       "    </tr>\n",
       "    <tr>\n",
       "      <th>max</th>\n",
       "      <td>1.000000</td>\n",
       "      <td>1.000000</td>\n",
       "      <td>1.000000</td>\n",
       "      <td>1.000000</td>\n",
       "      <td>1.000000</td>\n",
       "      <td>1.000000</td>\n",
       "    </tr>\n",
       "  </tbody>\n",
       "</table>\n",
       "</div>"
      ],
      "text/plain": [
       "                  aX             aY             aZ             gX  \\\n",
       "count  192500.000000  192500.000000  192500.000000  192500.000000   \n",
       "mean        0.400953       0.508082       0.541712       0.499318   \n",
       "std         0.074306       0.068467       0.085276       0.096042   \n",
       "min         0.000000       0.000000       0.000000       0.000000   \n",
       "25%         0.377844       0.486061       0.488569       0.484298   \n",
       "50%         0.388312       0.508553       0.539899       0.505739   \n",
       "75%         0.411963       0.535409       0.591876       0.521076   \n",
       "max         1.000000       1.000000       1.000000       1.000000   \n",
       "\n",
       "                  gY             gZ  \n",
       "count  192500.000000  192500.000000  \n",
       "mean        0.427822       0.502331  \n",
       "std         0.095247       0.095711  \n",
       "min         0.000000       0.000000  \n",
       "25%         0.406824       0.492653  \n",
       "50%         0.420533       0.502602  \n",
       "75%         0.432317       0.517067  \n",
       "max         1.000000       1.000000  "
      ]
     },
     "execution_count": 134,
     "metadata": {},
     "output_type": "execute_result"
    }
   ],
   "source": [
    "normaldata = (fulldata - fulldata.min()) / (fulldata.max()-fulldata.min())\n",
    "normaldata.describe()"
   ]
  },
  {
   "cell_type": "markdown",
   "metadata": {},
   "source": [
    "Save maximum and minimum values for use in the prediction model on the PocketBeagle"
   ]
  },
  {
   "cell_type": "code",
   "execution_count": 135,
   "metadata": {},
   "outputs": [],
   "source": [
    "minval = np.array(fulldata.min(), dtype='float32')\n",
    "maxval = np.array(fulldata.max(), dtype='float32')\n",
    "\n",
    "parameters_full = pd.DataFrame([minval, maxval], columns = ['aX','aY','aZ','gX','gY','gZ'])\n",
    "parameters_full.to_csv('parameters_full.csv')"
   ]
  },
  {
   "cell_type": "markdown",
   "metadata": {},
   "source": [
    "Convert data into numpy array for use with TensorFlow"
   ]
  },
  {
   "cell_type": "code",
   "execution_count": 136,
   "metadata": {},
   "outputs": [
    {
     "data": {
      "text/plain": [
       "array([[0.36514839, 0.40900282, 0.53687994, ..., 0.49930897, 0.43952637,\n",
       "        0.49567407],\n",
       "       [0.36826123, 0.55677119, 0.61452193, ..., 0.50932893, 0.42393172,\n",
       "        0.49123369],\n",
       "       [0.37146563, 0.4280766 , 0.58713156, ..., 0.50639205, 0.42553788,\n",
       "        0.49358358],\n",
       "       ...,\n",
       "       [0.3648127 , 0.37119097, 0.40265996, ..., 0.50357033, 0.42159719,\n",
       "        0.49990082],\n",
       "       [0.38944076, 0.36267643, 0.41401869, ..., 0.50669917, 0.41905722,\n",
       "        0.51453422],\n",
       "       [0.37061112, 0.37793545, 0.42573688, ..., 0.50518274, 0.41803003,\n",
       "        0.50209812]])"
      ]
     },
     "execution_count": 136,
     "metadata": {},
     "output_type": "execute_result"
    }
   ],
   "source": [
    "formatdata = pd.DataFrame()\n",
    "\n",
    "for idx, gesture in enumerate(gestures):\n",
    "    for i in range(1, num_samples+1):\n",
    "        \n",
    "        index = idx*num_samples*350 + (i-1) * 350\n",
    "        #print(index, index+250)\n",
    "        dataf = normaldata.iloc[index:index+350].to_numpy().flatten().tolist()\n",
    "        formatdata[idx*num_samples+i-1] = dataf\n",
    "        del dataf\n",
    "        \n",
    "        \n",
    "formatdata = formatdata.transpose().to_numpy()\n",
    "formatdata\n"
   ]
  },
  {
   "cell_type": "markdown",
   "metadata": {},
   "source": [
    "## Wavelet Data Processing"
   ]
  },
  {
   "cell_type": "markdown",
   "metadata": {},
   "source": [
    "Save parameters from wavelet transformed data for use in PocketBeagle prediction"
   ]
  },
  {
   "cell_type": "code",
   "execution_count": 145,
   "metadata": {},
   "outputs": [],
   "source": [
    "minval = np.array(fullwavedata.min(), dtype='float32')\n",
    "maxval = np.array(fullwavedata.max(), dtype='float32')"
   ]
  },
  {
   "cell_type": "code",
   "execution_count": 146,
   "metadata": {},
   "outputs": [],
   "source": [
    "parameters = pd.DataFrame([minval, maxval], columns = ['aX_A1','aX_D1','aY_A1','aY_D1','aZ_A1','aZ_D1','gX_A1','gX_D1','gY_A1','gY_D1','gZ_A1','gZ_D1',\n",
    "                                       'aX_A2','aX_D2','aY_A2','aY_D2','aZ_A2','aZ_D2','gX_A2','gX_D2','gY_A2','gY_D2','gZ_A2','gZ_D2'], index=['min','max'])\n",
    "parameters.to_csv('dataparameters.csv')"
   ]
  },
  {
   "cell_type": "markdown",
   "metadata": {},
   "source": [
    "Normalize Wavelet Transform Data"
   ]
  },
  {
   "cell_type": "code",
   "execution_count": 63,
   "metadata": {
    "scrolled": true
   },
   "outputs": [
    {
     "data": {
      "text/html": [
       "<div>\n",
       "<style scoped>\n",
       "    .dataframe tbody tr th:only-of-type {\n",
       "        vertical-align: middle;\n",
       "    }\n",
       "\n",
       "    .dataframe tbody tr th {\n",
       "        vertical-align: top;\n",
       "    }\n",
       "\n",
       "    .dataframe thead th {\n",
       "        text-align: right;\n",
       "    }\n",
       "</style>\n",
       "<table border=\"1\" class=\"dataframe\">\n",
       "  <thead>\n",
       "    <tr style=\"text-align: right;\">\n",
       "      <th></th>\n",
       "      <th>aX_A1</th>\n",
       "      <th>aX_D1</th>\n",
       "      <th>aY_A1</th>\n",
       "      <th>aY_D1</th>\n",
       "      <th>aZ_A1</th>\n",
       "      <th>aZ_D1</th>\n",
       "      <th>gX_A1</th>\n",
       "      <th>gX_D1</th>\n",
       "      <th>gY_A1</th>\n",
       "      <th>gY_D1</th>\n",
       "      <th>gZ_A1</th>\n",
       "      <th>gZ_D1</th>\n",
       "    </tr>\n",
       "  </thead>\n",
       "  <tbody>\n",
       "    <tr>\n",
       "      <th>count</th>\n",
       "      <td>26400.000000</td>\n",
       "      <td>26400.000000</td>\n",
       "      <td>26400.000000</td>\n",
       "      <td>26400.000000</td>\n",
       "      <td>26400.000000</td>\n",
       "      <td>26400.000000</td>\n",
       "      <td>26400.000000</td>\n",
       "      <td>26400.000000</td>\n",
       "      <td>26400.000000</td>\n",
       "      <td>26400.000000</td>\n",
       "      <td>26400.000000</td>\n",
       "      <td>26400.000000</td>\n",
       "    </tr>\n",
       "    <tr>\n",
       "      <th>mean</th>\n",
       "      <td>0.335526</td>\n",
       "      <td>0.611492</td>\n",
       "      <td>0.432839</td>\n",
       "      <td>0.449727</td>\n",
       "      <td>0.558324</td>\n",
       "      <td>0.521365</td>\n",
       "      <td>0.500183</td>\n",
       "      <td>0.519830</td>\n",
       "      <td>0.410186</td>\n",
       "      <td>0.521206</td>\n",
       "      <td>0.502551</td>\n",
       "      <td>0.583230</td>\n",
       "    </tr>\n",
       "    <tr>\n",
       "      <th>std</th>\n",
       "      <td>0.080657</td>\n",
       "      <td>0.031527</td>\n",
       "      <td>0.083774</td>\n",
       "      <td>0.033548</td>\n",
       "      <td>0.097088</td>\n",
       "      <td>0.042426</td>\n",
       "      <td>0.102759</td>\n",
       "      <td>0.048254</td>\n",
       "      <td>0.099510</td>\n",
       "      <td>0.040963</td>\n",
       "      <td>0.090144</td>\n",
       "      <td>0.035227</td>\n",
       "    </tr>\n",
       "    <tr>\n",
       "      <th>min</th>\n",
       "      <td>0.000000</td>\n",
       "      <td>0.000000</td>\n",
       "      <td>0.000000</td>\n",
       "      <td>0.000000</td>\n",
       "      <td>0.000000</td>\n",
       "      <td>0.000000</td>\n",
       "      <td>0.000000</td>\n",
       "      <td>0.000000</td>\n",
       "      <td>0.000000</td>\n",
       "      <td>0.000000</td>\n",
       "      <td>0.000000</td>\n",
       "      <td>0.000000</td>\n",
       "    </tr>\n",
       "    <tr>\n",
       "      <th>25%</th>\n",
       "      <td>0.311361</td>\n",
       "      <td>0.608447</td>\n",
       "      <td>0.403568</td>\n",
       "      <td>0.446310</td>\n",
       "      <td>0.494259</td>\n",
       "      <td>0.515400</td>\n",
       "      <td>0.482615</td>\n",
       "      <td>0.515702</td>\n",
       "      <td>0.388433</td>\n",
       "      <td>0.517965</td>\n",
       "      <td>0.492884</td>\n",
       "      <td>0.579189</td>\n",
       "    </tr>\n",
       "    <tr>\n",
       "      <th>50%</th>\n",
       "      <td>0.322813</td>\n",
       "      <td>0.611240</td>\n",
       "      <td>0.435093</td>\n",
       "      <td>0.449777</td>\n",
       "      <td>0.557355</td>\n",
       "      <td>0.521536</td>\n",
       "      <td>0.506969</td>\n",
       "      <td>0.519877</td>\n",
       "      <td>0.404442</td>\n",
       "      <td>0.521259</td>\n",
       "      <td>0.502341</td>\n",
       "      <td>0.582993</td>\n",
       "    </tr>\n",
       "    <tr>\n",
       "      <th>75%</th>\n",
       "      <td>0.347766</td>\n",
       "      <td>0.613706</td>\n",
       "      <td>0.470832</td>\n",
       "      <td>0.453207</td>\n",
       "      <td>0.617096</td>\n",
       "      <td>0.527778</td>\n",
       "      <td>0.523956</td>\n",
       "      <td>0.524138</td>\n",
       "      <td>0.415941</td>\n",
       "      <td>0.525350</td>\n",
       "      <td>0.515112</td>\n",
       "      <td>0.586998</td>\n",
       "    </tr>\n",
       "    <tr>\n",
       "      <th>max</th>\n",
       "      <td>1.000000</td>\n",
       "      <td>1.000000</td>\n",
       "      <td>1.000000</td>\n",
       "      <td>1.000000</td>\n",
       "      <td>1.000000</td>\n",
       "      <td>1.000000</td>\n",
       "      <td>1.000000</td>\n",
       "      <td>1.000000</td>\n",
       "      <td>1.000000</td>\n",
       "      <td>1.000000</td>\n",
       "      <td>1.000000</td>\n",
       "      <td>1.000000</td>\n",
       "    </tr>\n",
       "  </tbody>\n",
       "</table>\n",
       "</div>"
      ],
      "text/plain": [
       "              aX_A1         aX_D1         aY_A1         aY_D1         aZ_A1  \\\n",
       "count  26400.000000  26400.000000  26400.000000  26400.000000  26400.000000   \n",
       "mean       0.335526      0.611492      0.432839      0.449727      0.558324   \n",
       "std        0.080657      0.031527      0.083774      0.033548      0.097088   \n",
       "min        0.000000      0.000000      0.000000      0.000000      0.000000   \n",
       "25%        0.311361      0.608447      0.403568      0.446310      0.494259   \n",
       "50%        0.322813      0.611240      0.435093      0.449777      0.557355   \n",
       "75%        0.347766      0.613706      0.470832      0.453207      0.617096   \n",
       "max        1.000000      1.000000      1.000000      1.000000      1.000000   \n",
       "\n",
       "              aZ_D1         gX_A1         gX_D1         gY_A1         gY_D1  \\\n",
       "count  26400.000000  26400.000000  26400.000000  26400.000000  26400.000000   \n",
       "mean       0.521365      0.500183      0.519830      0.410186      0.521206   \n",
       "std        0.042426      0.102759      0.048254      0.099510      0.040963   \n",
       "min        0.000000      0.000000      0.000000      0.000000      0.000000   \n",
       "25%        0.515400      0.482615      0.515702      0.388433      0.517965   \n",
       "50%        0.521536      0.506969      0.519877      0.404442      0.521259   \n",
       "75%        0.527778      0.523956      0.524138      0.415941      0.525350   \n",
       "max        1.000000      1.000000      1.000000      1.000000      1.000000   \n",
       "\n",
       "              gZ_A1         gZ_D1  \n",
       "count  26400.000000  26400.000000  \n",
       "mean       0.502551      0.583230  \n",
       "std        0.090144      0.035227  \n",
       "min        0.000000      0.000000  \n",
       "25%        0.492884      0.579189  \n",
       "50%        0.502341      0.582993  \n",
       "75%        0.515112      0.586998  \n",
       "max        1.000000      1.000000  "
      ]
     },
     "execution_count": 63,
     "metadata": {},
     "output_type": "execute_result"
    }
   ],
   "source": [
    "normalwavedata = (fullwavedata - fullwavedata.min()) / (fullwavedata.max()-fullwavedata.min())\n",
    "normalwavedata.describe()"
   ]
  },
  {
   "cell_type": "markdown",
   "metadata": {},
   "source": [
    "Convert data into numpy array for use with TensorFlow"
   ]
  },
  {
   "cell_type": "code",
   "execution_count": 64,
   "metadata": {},
   "outputs": [
    {
     "data": {
      "text/plain": [
       "array([[0.29540231, 0.61156848, 0.27991591, ..., 0.5188936 , 0.4929458 ,\n",
       "        0.58779549],\n",
       "       [0.29813013, 0.61073137, 0.50787481, ..., 0.52143732, 0.49012884,\n",
       "        0.58391459],\n",
       "       [0.30318832, 0.61109519, 0.3142718 , ..., 0.52195295, 0.49385348,\n",
       "        0.58364604],\n",
       "       ...,\n",
       "       [0.31135546, 0.61839787, 0.23596859, ..., 0.51909722, 0.50125362,\n",
       "        0.58275752],\n",
       "       [0.39471096, 0.63080849, 0.24139908, ..., 0.52259185, 0.51834611,\n",
       "        0.58284503],\n",
       "       [0.30184074, 0.61630349, 0.20849859, ..., 0.52138206, 0.5016146 ,\n",
       "        0.58184442]])"
      ]
     },
     "execution_count": 64,
     "metadata": {},
     "output_type": "execute_result"
    }
   ],
   "source": [
    "formatwavedata = pd.DataFrame()\n",
    "\n",
    "for idx, gesture in enumerate(gestures):\n",
    "    for i in range(1, num_samples+1):\n",
    "        \n",
    "        index = idx*num_samples*wavelen + (i-1) * wavelen\n",
    "        #print(index, index+250)\n",
    "        wavedataf = normalwavedata.iloc[index:index+wavelen].to_numpy().flatten().tolist()\n",
    "        formatwavedata[idx*num_samples+i-1] = wavedataf\n",
    "        del wavedataf\n",
    "        \n",
    "        \n",
    "formatwavedata = formatwavedata.transpose().to_numpy()\n",
    "formatwavedata \n"
   ]
  },
  {
   "cell_type": "markdown",
   "metadata": {},
   "source": [
    "## Train Model"
   ]
  },
  {
   "cell_type": "code",
   "execution_count": 80,
   "metadata": {},
   "outputs": [],
   "source": [
    "from sklearn.model_selection import train_test_split\n",
    "\n",
    "X_train, X_test, y_train, y_test = train_test_split(formatwavedata, labels, test_size=0.15)\n",
    "X_train, X_val, y_train, y_val = train_test_split(X_train, y_train, test_size=0.15/0.85)"
   ]
  },
  {
   "cell_type": "markdown",
   "metadata": {},
   "source": [
    "Split data into training, test, and validation.\n",
    "Using StratifiedShuffleSplit to ensure even distribution of all the gestures in every dataset. (This is especially useful for small datasets such as this one)"
   ]
  },
  {
   "cell_type": "code",
   "execution_count": 58,
   "metadata": {},
   "outputs": [
    {
     "name": "stdout",
     "output_type": "stream",
     "text": [
      "0: Train 0.09114583333333333; Test 0.08433734939759036; Val 0.0963855421686747\n",
      "1: Train 0.09114583333333333; Test 0.0963855421686747; Val 0.08433734939759036\n",
      "2: Train 0.09114583333333333; Test 0.08433734939759036; Val 0.0963855421686747\n",
      "3: Train 0.09114583333333333; Test 0.0963855421686747; Val 0.08433734939759036\n",
      "4: Train 0.09114583333333333; Test 0.08433734939759036; Val 0.0963855421686747\n",
      "5: Train 0.08854166666666667; Test 0.0963855421686747; Val 0.0963855421686747\n",
      "6: Train 0.09114583333333333; Test 0.0963855421686747; Val 0.08433734939759036\n",
      "7: Train 0.09114583333333333; Test 0.0963855421686747; Val 0.08433734939759036\n",
      "8: Train 0.09114583333333333; Test 0.08433734939759036; Val 0.0963855421686747\n",
      "9: Train 0.09114583333333333; Test 0.0963855421686747; Val 0.08433734939759036\n"
     ]
    }
   ],
   "source": [
    "from sklearn.model_selection import StratifiedShuffleSplit\n",
    "\n",
    "testsplit = StratifiedShuffleSplit(n_splits = 1, test_size = 0.15)\n",
    "valsplit = StratifiedShuffleSplit(n_splits = 1, test_size = 0.15/0.85)\n",
    "\n",
    "for train_index, test_index in testsplit.split(formatwavedata, labels):\n",
    "    X_train, X_test = formatwavedata[train_index], formatwavedata[test_index]\n",
    "    y_train, y_test = labels[train_index], labels[test_index]\n",
    "    \n",
    "for train_index, val_index in valsplit.split(X_train, y_train):\n",
    "    X_train, X_val = X_train[train_index], X_train[val_index]\n",
    "    y_train, y_val = y_train[train_index], y_train[val_index]\n",
    "    \n",
    "for i in range(0,10):\n",
    "    print('{3}: Train {0}; Test {1}; Val {2}'.format(np.size(np.where(y_train == i)) / len(y_train), np.size(np.where(y_test == i)) / len(y_test), np.size(np.where(y_val == i)) / len(y_val), i))"
   ]
  },
  {
   "cell_type": "markdown",
   "metadata": {},
   "source": [
    "Set up TensorFlow Model"
   ]
  },
  {
   "cell_type": "code",
   "execution_count": 59,
   "metadata": {},
   "outputs": [],
   "source": [
    "opt = tf.keras.optimizers.Adam(learning_rate=0.0001)\n",
    "model = None\n",
    "model = tf.keras.Sequential()\n",
    "model.add(tf.keras.layers.Dense(1024, activation='relu', name='data')) # relu is used for performance\n",
    "model.add(tf.keras.layers.Dropout(0.25)) #dropout layers help prevent overfitting\n",
    "model.add(tf.keras.layers.Dense(1024, activation='relu'))\n",
    "model.add(tf.keras.layers.Dropout(0.25))\n",
    "model.add(tf.keras.layers.Dense(1024, activation='relu'))\n",
    "model.add(tf.keras.layers.Dropout(0.25))\n",
    "model.add(tf.keras.layers.Dense(len(gestures), activation='softmax', name='result'))\n",
    "model.compile(optimizer=opt, loss=tf.keras.losses.SparseCategoricalCrossentropy(), metrics=[tf.keras.metrics.SparseCategoricalAccuracy()])"
   ]
  },
  {
   "cell_type": "markdown",
   "metadata": {},
   "source": [
    "Train model using optimized parameters"
   ]
  },
  {
   "cell_type": "code",
   "execution_count": 60,
   "metadata": {
    "scrolled": true
   },
   "outputs": [
    {
     "name": "stdout",
     "output_type": "stream",
     "text": [
      "Epoch 1/600\n",
      "12/12 [==============================] - 2s 71ms/step - loss: 2.4564 - sparse_categorical_accuracy: 0.0938 - val_loss: 2.3748 - val_sparse_categorical_accuracy: 0.1205\n",
      "Epoch 2/600\n",
      "12/12 [==============================] - 0s 42ms/step - loss: 2.3867 - sparse_categorical_accuracy: 0.1302 - val_loss: 2.3316 - val_sparse_categorical_accuracy: 0.2169\n",
      "Epoch 3/600\n",
      "12/12 [==============================] - 1s 43ms/step - loss: 2.3403 - sparse_categorical_accuracy: 0.1536 - val_loss: 2.3030 - val_sparse_categorical_accuracy: 0.3012\n",
      "Epoch 4/600\n",
      "12/12 [==============================] - 1s 44ms/step - loss: 2.3208 - sparse_categorical_accuracy: 0.1823 - val_loss: 2.2707 - val_sparse_categorical_accuracy: 0.3614\n",
      "Epoch 5/600\n",
      "12/12 [==============================] - 1s 62ms/step - loss: 2.3031 - sparse_categorical_accuracy: 0.2161 - val_loss: 2.2291 - val_sparse_categorical_accuracy: 0.5060\n",
      "Epoch 6/600\n",
      "12/12 [==============================] - 0s 41ms/step - loss: 2.2391 - sparse_categorical_accuracy: 0.2604 - val_loss: 2.1876 - val_sparse_categorical_accuracy: 0.4217\n",
      "Epoch 7/600\n",
      "12/12 [==============================] - 0s 42ms/step - loss: 2.2102 - sparse_categorical_accuracy: 0.2839 - val_loss: 2.1290 - val_sparse_categorical_accuracy: 0.5783\n",
      "Epoch 8/600\n",
      "12/12 [==============================] - 0s 41ms/step - loss: 2.1710 - sparse_categorical_accuracy: 0.3099 - val_loss: 2.0685 - val_sparse_categorical_accuracy: 0.6024\n",
      "Epoch 9/600\n",
      "12/12 [==============================] - 1s 42ms/step - loss: 2.1372 - sparse_categorical_accuracy: 0.3438 - val_loss: 2.0089 - val_sparse_categorical_accuracy: 0.5181\n",
      "Epoch 10/600\n",
      "12/12 [==============================] - 0s 42ms/step - loss: 2.0730 - sparse_categorical_accuracy: 0.3802 - val_loss: 1.9157 - val_sparse_categorical_accuracy: 0.6747\n",
      "Epoch 11/600\n",
      "12/12 [==============================] - 1s 58ms/step - loss: 1.9509 - sparse_categorical_accuracy: 0.4609 - val_loss: 1.8308 - val_sparse_categorical_accuracy: 0.7831\n",
      "Epoch 12/600\n",
      "12/12 [==============================] - 1s 77ms/step - loss: 1.8637 - sparse_categorical_accuracy: 0.4740 - val_loss: 1.7410 - val_sparse_categorical_accuracy: 0.6627\n",
      "Epoch 13/600\n",
      "12/12 [==============================] - 1s 70ms/step - loss: 1.7871 - sparse_categorical_accuracy: 0.4714 - val_loss: 1.6810 - val_sparse_categorical_accuracy: 0.6506\n",
      "Epoch 14/600\n",
      "12/12 [==============================] - 1s 57ms/step - loss: 1.6883 - sparse_categorical_accuracy: 0.5547 - val_loss: 1.5822 - val_sparse_categorical_accuracy: 0.6988\n",
      "Epoch 15/600\n",
      "12/12 [==============================] - 1s 43ms/step - loss: 1.6248 - sparse_categorical_accuracy: 0.5495 - val_loss: 1.4935 - val_sparse_categorical_accuracy: 0.7108\n",
      "Epoch 16/600\n",
      "12/12 [==============================] - 1s 57ms/step - loss: 1.5193 - sparse_categorical_accuracy: 0.5990 - val_loss: 1.4004 - val_sparse_categorical_accuracy: 0.8072\n",
      "Epoch 17/600\n",
      "12/12 [==============================] - 1s 62ms/step - loss: 1.4497 - sparse_categorical_accuracy: 0.6172 - val_loss: 1.3304 - val_sparse_categorical_accuracy: 0.6988\n",
      "Epoch 18/600\n",
      "12/12 [==============================] - 1s 51ms/step - loss: 1.3395 - sparse_categorical_accuracy: 0.6198 - val_loss: 1.2719 - val_sparse_categorical_accuracy: 0.8193\n",
      "Epoch 19/600\n",
      "12/12 [==============================] - 1s 50ms/step - loss: 1.3136 - sparse_categorical_accuracy: 0.6562 - val_loss: 1.2316 - val_sparse_categorical_accuracy: 0.7711\n",
      "Epoch 20/600\n",
      "12/12 [==============================] - 1s 71ms/step - loss: 1.1926 - sparse_categorical_accuracy: 0.6615 - val_loss: 1.1557 - val_sparse_categorical_accuracy: 0.7952\n",
      "Epoch 21/600\n",
      "12/12 [==============================] - 1s 59ms/step - loss: 1.1181 - sparse_categorical_accuracy: 0.7266 - val_loss: 1.0989 - val_sparse_categorical_accuracy: 0.8675\n",
      "Epoch 22/600\n",
      "12/12 [==============================] - 1s 63ms/step - loss: 1.0874 - sparse_categorical_accuracy: 0.7188 - val_loss: 1.0789 - val_sparse_categorical_accuracy: 0.8193\n",
      "Epoch 23/600\n",
      "12/12 [==============================] - 0s 39ms/step - loss: 1.0563 - sparse_categorical_accuracy: 0.7396 - val_loss: 1.0026 - val_sparse_categorical_accuracy: 0.8313\n",
      "Epoch 24/600\n",
      "12/12 [==============================] - 0s 37ms/step - loss: 0.9757 - sparse_categorical_accuracy: 0.7708 - val_loss: 0.9080 - val_sparse_categorical_accuracy: 0.8795\n",
      "Epoch 25/600\n",
      "12/12 [==============================] - 0s 38ms/step - loss: 0.8734 - sparse_categorical_accuracy: 0.7943 - val_loss: 0.8844 - val_sparse_categorical_accuracy: 0.8795\n",
      "Epoch 26/600\n",
      "12/12 [==============================] - 0s 35ms/step - loss: 0.8971 - sparse_categorical_accuracy: 0.7760 - val_loss: 0.8219 - val_sparse_categorical_accuracy: 0.9036\n",
      "Epoch 27/600\n",
      "12/12 [==============================] - 0s 34ms/step - loss: 0.7647 - sparse_categorical_accuracy: 0.8307 - val_loss: 0.8342 - val_sparse_categorical_accuracy: 0.8434\n",
      "Epoch 28/600\n",
      "12/12 [==============================] - 0s 35ms/step - loss: 0.7814 - sparse_categorical_accuracy: 0.8177 - val_loss: 0.7282 - val_sparse_categorical_accuracy: 0.9036\n",
      "Epoch 29/600\n",
      "12/12 [==============================] - 0s 33ms/step - loss: 0.7020 - sparse_categorical_accuracy: 0.8542 - val_loss: 0.7114 - val_sparse_categorical_accuracy: 0.8795\n",
      "Epoch 30/600\n",
      "12/12 [==============================] - 0s 33ms/step - loss: 0.6579 - sparse_categorical_accuracy: 0.8542 - val_loss: 0.7121 - val_sparse_categorical_accuracy: 0.8434\n",
      "Epoch 31/600\n",
      "12/12 [==============================] - 0s 33ms/step - loss: 0.5947 - sparse_categorical_accuracy: 0.8672 - val_loss: 0.6370 - val_sparse_categorical_accuracy: 0.8675\n",
      "Epoch 32/600\n",
      "12/12 [==============================] - 0s 33ms/step - loss: 0.6106 - sparse_categorical_accuracy: 0.8516 - val_loss: 0.6415 - val_sparse_categorical_accuracy: 0.8916\n",
      "Epoch 33/600\n",
      "12/12 [==============================] - 0s 35ms/step - loss: 0.5672 - sparse_categorical_accuracy: 0.8516 - val_loss: 0.5791 - val_sparse_categorical_accuracy: 0.9036\n",
      "Epoch 34/600\n",
      "12/12 [==============================] - 0s 34ms/step - loss: 0.5201 - sparse_categorical_accuracy: 0.8828 - val_loss: 0.5515 - val_sparse_categorical_accuracy: 0.8916\n",
      "Epoch 35/600\n",
      "12/12 [==============================] - 0s 35ms/step - loss: 0.5013 - sparse_categorical_accuracy: 0.8620 - val_loss: 0.5505 - val_sparse_categorical_accuracy: 0.9036\n",
      "Epoch 36/600\n",
      "12/12 [==============================] - 0s 35ms/step - loss: 0.4553 - sparse_categorical_accuracy: 0.8802 - val_loss: 0.5576 - val_sparse_categorical_accuracy: 0.9036\n",
      "Epoch 37/600\n",
      "12/12 [==============================] - 1s 44ms/step - loss: 0.4577 - sparse_categorical_accuracy: 0.8906 - val_loss: 0.4990 - val_sparse_categorical_accuracy: 0.9157\n",
      "Epoch 38/600\n",
      "12/12 [==============================] - 0s 35ms/step - loss: 0.4735 - sparse_categorical_accuracy: 0.8880 - val_loss: 0.5330 - val_sparse_categorical_accuracy: 0.9277\n",
      "Epoch 39/600\n",
      "12/12 [==============================] - 0s 36ms/step - loss: 0.4124 - sparse_categorical_accuracy: 0.9089 - val_loss: 0.5244 - val_sparse_categorical_accuracy: 0.9036\n",
      "Epoch 40/600\n",
      "12/12 [==============================] - 1s 44ms/step - loss: 0.4184 - sparse_categorical_accuracy: 0.8906 - val_loss: 0.4704 - val_sparse_categorical_accuracy: 0.9277\n",
      "Epoch 41/600\n",
      "12/12 [==============================] - 0s 39ms/step - loss: 0.3705 - sparse_categorical_accuracy: 0.9062 - val_loss: 0.4669 - val_sparse_categorical_accuracy: 0.9398\n",
      "Epoch 42/600\n",
      "12/12 [==============================] - 0s 35ms/step - loss: 0.3226 - sparse_categorical_accuracy: 0.9271 - val_loss: 0.4177 - val_sparse_categorical_accuracy: 0.9398\n",
      "Epoch 43/600\n",
      "12/12 [==============================] - 0s 38ms/step - loss: 0.2878 - sparse_categorical_accuracy: 0.9401 - val_loss: 0.4190 - val_sparse_categorical_accuracy: 0.9277\n",
      "Epoch 44/600\n",
      "12/12 [==============================] - 0s 40ms/step - loss: 0.2978 - sparse_categorical_accuracy: 0.9271 - val_loss: 0.3912 - val_sparse_categorical_accuracy: 0.9036\n",
      "Epoch 45/600\n",
      "12/12 [==============================] - 0s 36ms/step - loss: 0.3098 - sparse_categorical_accuracy: 0.9193 - val_loss: 0.4186 - val_sparse_categorical_accuracy: 0.9157\n",
      "Epoch 46/600\n"
     ]
    },
    {
     "name": "stdout",
     "output_type": "stream",
     "text": [
      "12/12 [==============================] - 0s 35ms/step - loss: 0.2788 - sparse_categorical_accuracy: 0.9401 - val_loss: 0.3862 - val_sparse_categorical_accuracy: 0.9277\n",
      "Epoch 47/600\n",
      "12/12 [==============================] - 1s 49ms/step - loss: 0.2488 - sparse_categorical_accuracy: 0.9375 - val_loss: 0.3675 - val_sparse_categorical_accuracy: 0.9398\n",
      "Epoch 48/600\n",
      "12/12 [==============================] - 1s 47ms/step - loss: 0.2664 - sparse_categorical_accuracy: 0.9323 - val_loss: 0.3931 - val_sparse_categorical_accuracy: 0.9277\n",
      "Epoch 49/600\n",
      "12/12 [==============================] - 0s 38ms/step - loss: 0.2523 - sparse_categorical_accuracy: 0.9479 - val_loss: 0.3639 - val_sparse_categorical_accuracy: 0.9398\n",
      "Epoch 50/600\n",
      "12/12 [==============================] - ETA: 0s - loss: 0.2021 - sparse_categorical_accuracy: 0.974 - 1s 43ms/step - loss: 0.2280 - sparse_categorical_accuracy: 0.9609 - val_loss: 0.3565 - val_sparse_categorical_accuracy: 0.9277\n",
      "Epoch 51/600\n",
      "12/12 [==============================] - 0s 37ms/step - loss: 0.2883 - sparse_categorical_accuracy: 0.9219 - val_loss: 0.3991 - val_sparse_categorical_accuracy: 0.9398\n",
      "Epoch 52/600\n",
      "12/12 [==============================] - 1s 43ms/step - loss: 0.2456 - sparse_categorical_accuracy: 0.9401 - val_loss: 0.4620 - val_sparse_categorical_accuracy: 0.8916\n",
      "Epoch 53/600\n",
      "12/12 [==============================] - 0s 39ms/step - loss: 0.2432 - sparse_categorical_accuracy: 0.9427 - val_loss: 0.4087 - val_sparse_categorical_accuracy: 0.9157\n",
      "Epoch 54/600\n",
      "12/12 [==============================] - 1s 44ms/step - loss: 0.2171 - sparse_categorical_accuracy: 0.9479 - val_loss: 0.3683 - val_sparse_categorical_accuracy: 0.9518\n",
      "Epoch 55/600\n",
      "12/12 [==============================] - 1s 42ms/step - loss: 0.2268 - sparse_categorical_accuracy: 0.9297 - val_loss: 0.3501 - val_sparse_categorical_accuracy: 0.9398\n",
      "Epoch 56/600\n",
      "12/12 [==============================] - 0s 38ms/step - loss: 0.1994 - sparse_categorical_accuracy: 0.9557 - val_loss: 0.3706 - val_sparse_categorical_accuracy: 0.9277\n",
      "Epoch 57/600\n",
      "12/12 [==============================] - 0s 37ms/step - loss: 0.1918 - sparse_categorical_accuracy: 0.9505 - val_loss: 0.3353 - val_sparse_categorical_accuracy: 0.9398\n",
      "Epoch 58/600\n",
      "12/12 [==============================] - 0s 36ms/step - loss: 0.1632 - sparse_categorical_accuracy: 0.9609 - val_loss: 0.3326 - val_sparse_categorical_accuracy: 0.9518\n",
      "Epoch 59/600\n",
      "12/12 [==============================] - 0s 34ms/step - loss: 0.1599 - sparse_categorical_accuracy: 0.9635 - val_loss: 0.3336 - val_sparse_categorical_accuracy: 0.9518\n",
      "Epoch 60/600\n",
      "12/12 [==============================] - 0s 35ms/step - loss: 0.1498 - sparse_categorical_accuracy: 0.9818 - val_loss: 0.3363 - val_sparse_categorical_accuracy: 0.9398\n",
      "Epoch 61/600\n",
      "12/12 [==============================] - 0s 38ms/step - loss: 0.1541 - sparse_categorical_accuracy: 0.9609 - val_loss: 0.3132 - val_sparse_categorical_accuracy: 0.9277\n",
      "Epoch 62/600\n",
      "12/12 [==============================] - 0s 41ms/step - loss: 0.1605 - sparse_categorical_accuracy: 0.9661 - val_loss: 0.3411 - val_sparse_categorical_accuracy: 0.9518\n",
      "Epoch 63/600\n",
      "12/12 [==============================] - 0s 41ms/step - loss: 0.1463 - sparse_categorical_accuracy: 0.9661 - val_loss: 0.3343 - val_sparse_categorical_accuracy: 0.9518\n",
      "Epoch 64/600\n",
      "12/12 [==============================] - 0s 35ms/step - loss: 0.1508 - sparse_categorical_accuracy: 0.9557 - val_loss: 0.3228 - val_sparse_categorical_accuracy: 0.9398\n",
      "Epoch 65/600\n",
      "12/12 [==============================] - 0s 35ms/step - loss: 0.1168 - sparse_categorical_accuracy: 0.9792 - val_loss: 0.3040 - val_sparse_categorical_accuracy: 0.9518\n",
      "Epoch 66/600\n",
      "12/12 [==============================] - 0s 35ms/step - loss: 0.1450 - sparse_categorical_accuracy: 0.9688 - val_loss: 0.3295 - val_sparse_categorical_accuracy: 0.9398\n",
      "Epoch 67/600\n",
      "12/12 [==============================] - 0s 38ms/step - loss: 0.1309 - sparse_categorical_accuracy: 0.9740 - val_loss: 0.3062 - val_sparse_categorical_accuracy: 0.9277\n",
      "Epoch 68/600\n",
      "12/12 [==============================] - 0s 37ms/step - loss: 0.1329 - sparse_categorical_accuracy: 0.9661 - val_loss: 0.3180 - val_sparse_categorical_accuracy: 0.9398\n",
      "Epoch 69/600\n",
      "12/12 [==============================] - 1s 46ms/step - loss: 0.1417 - sparse_categorical_accuracy: 0.9766 - val_loss: 0.3640 - val_sparse_categorical_accuracy: 0.9157\n",
      "Epoch 70/600\n",
      "12/12 [==============================] - 1s 47ms/step - loss: 0.1295 - sparse_categorical_accuracy: 0.9609 - val_loss: 0.3040 - val_sparse_categorical_accuracy: 0.9398\n",
      "Epoch 71/600\n",
      "12/12 [==============================] - 1s 48ms/step - loss: 0.1473 - sparse_categorical_accuracy: 0.9583 - val_loss: 0.3265 - val_sparse_categorical_accuracy: 0.9277\n",
      "Epoch 72/600\n",
      "12/12 [==============================] - 0s 37ms/step - loss: 0.1125 - sparse_categorical_accuracy: 0.9766 - val_loss: 0.3128 - val_sparse_categorical_accuracy: 0.9398\n",
      "Epoch 73/600\n",
      "12/12 [==============================] - 0s 37ms/step - loss: 0.1071 - sparse_categorical_accuracy: 0.9766 - val_loss: 0.3006 - val_sparse_categorical_accuracy: 0.9518\n",
      "Epoch 74/600\n",
      "12/12 [==============================] - 1s 43ms/step - loss: 0.1003 - sparse_categorical_accuracy: 0.9792 - val_loss: 0.3140 - val_sparse_categorical_accuracy: 0.9277\n",
      "Epoch 75/600\n",
      "12/12 [==============================] - 0s 36ms/step - loss: 0.1031 - sparse_categorical_accuracy: 0.9740 - val_loss: 0.2938 - val_sparse_categorical_accuracy: 0.9518\n",
      "Epoch 76/600\n",
      "12/12 [==============================] - 0s 37ms/step - loss: 0.0954 - sparse_categorical_accuracy: 0.9792 - val_loss: 0.3166 - val_sparse_categorical_accuracy: 0.9518\n",
      "Epoch 77/600\n",
      "12/12 [==============================] - 0s 35ms/step - loss: 0.1063 - sparse_categorical_accuracy: 0.9792 - val_loss: 0.3068 - val_sparse_categorical_accuracy: 0.9518\n",
      "Epoch 78/600\n",
      "12/12 [==============================] - 0s 34ms/step - loss: 0.0964 - sparse_categorical_accuracy: 0.9766 - val_loss: 0.2833 - val_sparse_categorical_accuracy: 0.9518\n",
      "Epoch 79/600\n",
      "12/12 [==============================] - 0s 33ms/step - loss: 0.0922 - sparse_categorical_accuracy: 0.9818 - val_loss: 0.2797 - val_sparse_categorical_accuracy: 0.9518\n",
      "Epoch 80/600\n",
      "12/12 [==============================] - 0s 36ms/step - loss: 0.0756 - sparse_categorical_accuracy: 0.9870 - val_loss: 0.2964 - val_sparse_categorical_accuracy: 0.9398\n",
      "Epoch 81/600\n",
      "12/12 [==============================] - 0s 33ms/step - loss: 0.0720 - sparse_categorical_accuracy: 0.9818 - val_loss: 0.3147 - val_sparse_categorical_accuracy: 0.9518\n",
      "Epoch 82/600\n",
      "12/12 [==============================] - 0s 35ms/step - loss: 0.0755 - sparse_categorical_accuracy: 0.9870 - val_loss: 0.2759 - val_sparse_categorical_accuracy: 0.9639\n",
      "Epoch 83/600\n",
      "12/12 [==============================] - 0s 34ms/step - loss: 0.0770 - sparse_categorical_accuracy: 0.9870 - val_loss: 0.2865 - val_sparse_categorical_accuracy: 0.9639\n",
      "Epoch 84/600\n",
      "12/12 [==============================] - 0s 36ms/step - loss: 0.0853 - sparse_categorical_accuracy: 0.9844 - val_loss: 0.3010 - val_sparse_categorical_accuracy: 0.9639\n",
      "Epoch 85/600\n",
      "12/12 [==============================] - 0s 34ms/step - loss: 0.0923 - sparse_categorical_accuracy: 0.9766 - val_loss: 0.3635 - val_sparse_categorical_accuracy: 0.9277\n",
      "Epoch 86/600\n",
      "12/12 [==============================] - 0s 37ms/step - loss: 0.0877 - sparse_categorical_accuracy: 0.9870 - val_loss: 0.2946 - val_sparse_categorical_accuracy: 0.9398\n",
      "Epoch 87/600\n",
      "12/12 [==============================] - 0s 37ms/step - loss: 0.0747 - sparse_categorical_accuracy: 0.9818 - val_loss: 0.3236 - val_sparse_categorical_accuracy: 0.9277\n",
      "Epoch 88/600\n",
      "12/12 [==============================] - 0s 35ms/step - loss: 0.0748 - sparse_categorical_accuracy: 0.9818 - val_loss: 0.3117 - val_sparse_categorical_accuracy: 0.9518\n",
      "Epoch 89/600\n",
      "12/12 [==============================] - 0s 34ms/step - loss: 0.0601 - sparse_categorical_accuracy: 0.9922 - val_loss: 0.2728 - val_sparse_categorical_accuracy: 0.9639\n",
      "Epoch 90/600\n",
      "12/12 [==============================] - 0s 37ms/step - loss: 0.0648 - sparse_categorical_accuracy: 0.9896 - val_loss: 0.3071 - val_sparse_categorical_accuracy: 0.9518\n"
     ]
    },
    {
     "name": "stdout",
     "output_type": "stream",
     "text": [
      "Epoch 91/600\n",
      "12/12 [==============================] - 0s 35ms/step - loss: 0.0631 - sparse_categorical_accuracy: 0.9844 - val_loss: 0.3070 - val_sparse_categorical_accuracy: 0.9518\n",
      "Epoch 92/600\n",
      "12/12 [==============================] - 0s 38ms/step - loss: 0.0626 - sparse_categorical_accuracy: 0.9870 - val_loss: 0.3173 - val_sparse_categorical_accuracy: 0.9518\n",
      "Epoch 93/600\n",
      "12/12 [==============================] - 0s 35ms/step - loss: 0.0884 - sparse_categorical_accuracy: 0.9740 - val_loss: 0.2978 - val_sparse_categorical_accuracy: 0.9398\n",
      "Epoch 94/600\n",
      "12/12 [==============================] - 0s 35ms/step - loss: 0.0807 - sparse_categorical_accuracy: 0.9818 - val_loss: 0.2862 - val_sparse_categorical_accuracy: 0.9518\n",
      "Epoch 95/600\n",
      "12/12 [==============================] - 0s 36ms/step - loss: 0.0795 - sparse_categorical_accuracy: 0.9792 - val_loss: 0.3205 - val_sparse_categorical_accuracy: 0.9277\n",
      "Epoch 96/600\n",
      "12/12 [==============================] - 0s 36ms/step - loss: 0.0532 - sparse_categorical_accuracy: 0.9922 - val_loss: 0.2910 - val_sparse_categorical_accuracy: 0.9398\n",
      "Epoch 97/600\n",
      "12/12 [==============================] - 0s 36ms/step - loss: 0.0624 - sparse_categorical_accuracy: 0.9896 - val_loss: 0.2966 - val_sparse_categorical_accuracy: 0.9518\n",
      "Epoch 98/600\n",
      "12/12 [==============================] - 0s 35ms/step - loss: 0.0582 - sparse_categorical_accuracy: 0.9922 - val_loss: 0.2794 - val_sparse_categorical_accuracy: 0.9639\n",
      "Epoch 99/600\n",
      "12/12 [==============================] - 1s 43ms/step - loss: 0.0626 - sparse_categorical_accuracy: 0.9896 - val_loss: 0.2992 - val_sparse_categorical_accuracy: 0.9639\n",
      "Epoch 100/600\n",
      "12/12 [==============================] - 0s 40ms/step - loss: 0.0577 - sparse_categorical_accuracy: 0.9922 - val_loss: 0.3010 - val_sparse_categorical_accuracy: 0.9398\n",
      "Epoch 101/600\n",
      "12/12 [==============================] - 0s 42ms/step - loss: 0.0564 - sparse_categorical_accuracy: 0.9922 - val_loss: 0.2745 - val_sparse_categorical_accuracy: 0.9518\n",
      "Epoch 102/600\n",
      "12/12 [==============================] - 0s 40ms/step - loss: 0.0580 - sparse_categorical_accuracy: 0.9844 - val_loss: 0.2961 - val_sparse_categorical_accuracy: 0.9518\n",
      "Epoch 103/600\n",
      "12/12 [==============================] - 0s 36ms/step - loss: 0.0586 - sparse_categorical_accuracy: 0.9844 - val_loss: 0.3236 - val_sparse_categorical_accuracy: 0.9518\n",
      "Epoch 104/600\n",
      "12/12 [==============================] - 0s 37ms/step - loss: 0.0514 - sparse_categorical_accuracy: 0.9948 - val_loss: 0.2956 - val_sparse_categorical_accuracy: 0.9639\n",
      "Epoch 105/600\n",
      "12/12 [==============================] - 1s 49ms/step - loss: 0.0524 - sparse_categorical_accuracy: 0.9922 - val_loss: 0.2723 - val_sparse_categorical_accuracy: 0.9639\n",
      "Epoch 106/600\n",
      "12/12 [==============================] - 1s 41ms/step - loss: 0.0560 - sparse_categorical_accuracy: 0.9870 - val_loss: 0.2875 - val_sparse_categorical_accuracy: 0.9398\n",
      "Epoch 107/600\n",
      "12/12 [==============================] - 0s 37ms/step - loss: 0.0432 - sparse_categorical_accuracy: 0.9922 - val_loss: 0.3263 - val_sparse_categorical_accuracy: 0.9518\n",
      "Epoch 108/600\n",
      "12/12 [==============================] - 0s 37ms/step - loss: 0.0476 - sparse_categorical_accuracy: 0.9896 - val_loss: 0.2948 - val_sparse_categorical_accuracy: 0.9639\n",
      "Epoch 109/600\n",
      "12/12 [==============================] - 0s 36ms/step - loss: 0.0423 - sparse_categorical_accuracy: 0.9948 - val_loss: 0.3025 - val_sparse_categorical_accuracy: 0.9518\n",
      "Epoch 110/600\n",
      "12/12 [==============================] - 0s 36ms/step - loss: 0.0680 - sparse_categorical_accuracy: 0.9818 - val_loss: 0.3594 - val_sparse_categorical_accuracy: 0.9518\n",
      "Epoch 111/600\n",
      "12/12 [==============================] - 0s 35ms/step - loss: 0.0510 - sparse_categorical_accuracy: 0.9896 - val_loss: 0.3079 - val_sparse_categorical_accuracy: 0.9639\n",
      "Epoch 112/600\n",
      "12/12 [==============================] - 0s 36ms/step - loss: 0.0378 - sparse_categorical_accuracy: 0.9922 - val_loss: 0.2774 - val_sparse_categorical_accuracy: 0.9639\n",
      "Epoch 113/600\n",
      "12/12 [==============================] - 0s 36ms/step - loss: 0.0382 - sparse_categorical_accuracy: 0.9922 - val_loss: 0.2870 - val_sparse_categorical_accuracy: 0.9639\n",
      "Epoch 114/600\n",
      "12/12 [==============================] - 0s 36ms/step - loss: 0.0377 - sparse_categorical_accuracy: 0.9948 - val_loss: 0.3039 - val_sparse_categorical_accuracy: 0.9639\n",
      "Epoch 115/600\n",
      "12/12 [==============================] - 0s 35ms/step - loss: 0.0399 - sparse_categorical_accuracy: 0.9922 - val_loss: 0.3039 - val_sparse_categorical_accuracy: 0.9518\n",
      "Epoch 116/600\n",
      "12/12 [==============================] - 0s 36ms/step - loss: 0.0433 - sparse_categorical_accuracy: 0.9922 - val_loss: 0.3489 - val_sparse_categorical_accuracy: 0.9398\n",
      "Epoch 117/600\n",
      "12/12 [==============================] - 0s 36ms/step - loss: 0.0478 - sparse_categorical_accuracy: 0.9948 - val_loss: 0.3182 - val_sparse_categorical_accuracy: 0.9398\n",
      "Epoch 118/600\n",
      "12/12 [==============================] - 0s 36ms/step - loss: 0.0686 - sparse_categorical_accuracy: 0.9818 - val_loss: 0.3637 - val_sparse_categorical_accuracy: 0.9277\n",
      "Epoch 119/600\n",
      "12/12 [==============================] - 0s 36ms/step - loss: 0.0501 - sparse_categorical_accuracy: 0.9870 - val_loss: 0.3007 - val_sparse_categorical_accuracy: 0.9639\n",
      "Epoch 120/600\n",
      "12/12 [==============================] - 0s 36ms/step - loss: 0.0628 - sparse_categorical_accuracy: 0.9870 - val_loss: 0.3157 - val_sparse_categorical_accuracy: 0.9518\n",
      "Epoch 121/600\n",
      "12/12 [==============================] - 0s 42ms/step - loss: 0.0624 - sparse_categorical_accuracy: 0.9844 - val_loss: 0.3103 - val_sparse_categorical_accuracy: 0.9518\n",
      "Epoch 122/600\n",
      "12/12 [==============================] - 0s 38ms/step - loss: 0.0452 - sparse_categorical_accuracy: 0.9948 - val_loss: 0.3188 - val_sparse_categorical_accuracy: 0.9518\n",
      "Epoch 123/600\n",
      "12/12 [==============================] - 0s 40ms/step - loss: 0.0462 - sparse_categorical_accuracy: 0.9896 - val_loss: 0.3367 - val_sparse_categorical_accuracy: 0.9518\n",
      "Epoch 124/600\n",
      "12/12 [==============================] - 0s 39ms/step - loss: 0.0775 - sparse_categorical_accuracy: 0.9844 - val_loss: 0.2905 - val_sparse_categorical_accuracy: 0.9639\n",
      "Epoch 125/600\n",
      "12/12 [==============================] - 0s 39ms/step - loss: 0.0587 - sparse_categorical_accuracy: 0.9818 - val_loss: 0.2999 - val_sparse_categorical_accuracy: 0.9639\n",
      "Epoch 126/600\n",
      "12/12 [==============================] - 0s 38ms/step - loss: 0.0534 - sparse_categorical_accuracy: 0.9922 - val_loss: 0.2976 - val_sparse_categorical_accuracy: 0.9518\n",
      "Epoch 127/600\n",
      "12/12 [==============================] - 1s 46ms/step - loss: 0.0328 - sparse_categorical_accuracy: 0.9948 - val_loss: 0.2890 - val_sparse_categorical_accuracy: 0.9759\n",
      "Epoch 128/600\n",
      "12/12 [==============================] - 0s 39ms/step - loss: 0.0337 - sparse_categorical_accuracy: 0.9974 - val_loss: 0.3206 - val_sparse_categorical_accuracy: 0.9518\n",
      "Epoch 129/600\n",
      "12/12 [==============================] - 1s 46ms/step - loss: 0.0458 - sparse_categorical_accuracy: 0.9870 - val_loss: 0.2791 - val_sparse_categorical_accuracy: 0.9639\n",
      "Epoch 130/600\n",
      "12/12 [==============================] - 1s 46ms/step - loss: 0.0280 - sparse_categorical_accuracy: 0.9974 - val_loss: 0.3138 - val_sparse_categorical_accuracy: 0.9518\n"
     ]
    },
    {
     "data": {
      "text/plain": [
       "<keras.callbacks.History at 0x1b6aa036d60>"
      ]
     },
     "execution_count": 60,
     "metadata": {},
     "output_type": "execute_result"
    }
   ],
   "source": [
    "from tensorflow import keras\n",
    "from tensorflow.keras import layers, callbacks\n",
    "\n",
    "early_stopping = callbacks.EarlyStopping(\n",
    "    monitor='val_loss',\n",
    "    min_delta=0.0001, # minimium amount of change to count as an improvement\n",
    "    patience=25, # how many epochs to wait before stopping\n",
    "    restore_best_weights=True,\n",
    "\n",
    ")\n",
    "model.fit(X_train, y_train, \n",
    "            epochs=600,\n",
    "            batch_size=32,\n",
    "            callbacks=[early_stopping],\n",
    "            validation_data=(X_val, y_val))\n",
    "\n"
   ]
  },
  {
   "cell_type": "markdown",
   "metadata": {},
   "source": [
    "Evaluate performance of model"
   ]
  },
  {
   "cell_type": "code",
   "execution_count": 61,
   "metadata": {},
   "outputs": [
    {
     "name": "stdout",
     "output_type": "stream",
     "text": [
      "3/3 [==============================] - 0s 7ms/step - loss: 0.2398 - sparse_categorical_accuracy: 0.9277\n"
     ]
    },
    {
     "data": {
      "text/plain": [
       "<sklearn.metrics._plot.confusion_matrix.ConfusionMatrixDisplay at 0x1b6a308f820>"
      ]
     },
     "execution_count": 61,
     "metadata": {},
     "output_type": "execute_result"
    },
    {
     "data": {
      "image/png": "[encoded data removed]",
      "text/plain": [
       "<Figure size 432x288 with 2 Axes>"
      ]
     },
     "metadata": {
      "needs_background": "light"
     },
     "output_type": "display_data"
    }
   ],
   "source": [
    "model.evaluate(X_test, y_test)\n",
    "\n",
    "from sklearn.metrics import confusion_matrix, ConfusionMatrixDisplay\n",
    "\n",
    "prediction = model.predict(X_test)\n",
    "prediction\n",
    "\n",
    "prediction_lbl = np.argmax(prediction, axis=1)\n",
    "test_lbl = y_test\n",
    "\n",
    "cm = confusion_matrix(test_lbl, prediction_lbl, normalize='true')\n",
    "disp = ConfusionMatrixDisplay(confusion_matrix=cm)\n",
    "disp.plot()"
   ]
  },
  {
   "cell_type": "markdown",
   "metadata": {},
   "source": [
    "## Prepare Model for TensorFlowLite on PocketBeagle"
   ]
  },
  {
   "cell_type": "code",
   "execution_count": 46,
   "metadata": {},
   "outputs": [
    {
     "name": "stdout",
     "output_type": "stream",
     "text": [
      "Model: \"sequential_6\"\n",
      "_________________________________________________________________\n",
      "Layer (type)                 Output Shape              Param #   \n",
      "=================================================================\n",
      "data (Dense)                 (None, 1024)              1180672   \n",
      "_________________________________________________________________\n",
      "dropout_18 (Dropout)         (None, 1024)              0         \n",
      "_________________________________________________________________\n",
      "dense_12 (Dense)             (None, 1024)              1049600   \n",
      "_________________________________________________________________\n",
      "dropout_19 (Dropout)         (None, 1024)              0         \n",
      "_________________________________________________________________\n",
      "dense_13 (Dense)             (None, 1024)              1049600   \n",
      "_________________________________________________________________\n",
      "dropout_20 (Dropout)         (None, 1024)              0         \n",
      "_________________________________________________________________\n",
      "result (Dense)               (None, 11)                11275     \n",
      "=================================================================\n",
      "Total params: 3,291,147\n",
      "Trainable params: 3,291,147\n",
      "Non-trainable params: 0\n",
      "_________________________________________________________________\n"
     ]
    }
   ],
   "source": [
    "model.summary()"
   ]
  },
  {
   "cell_type": "markdown",
   "metadata": {},
   "source": [
    "Convert TF model to TFLite model"
   ]
  },
  {
   "cell_type": "code",
   "execution_count": 23,
   "metadata": {},
   "outputs": [
    {
     "name": "stdout",
     "output_type": "stream",
     "text": [
      "INFO:tensorflow:Assets written to: C:\\Users\\andre\\AppData\\Local\\Temp\\tmppn6r4u0b\\assets\n"
     ]
    }
   ],
   "source": [
    "converter = tf.lite.TFLiteConverter.from_keras_model(model)\n",
    "tflite_model = converter.convert()\n",
    "\n",
    "with open('test_model.tflite', 'wb') as f:\n",
    "  f.write(tflite_model)"
   ]
  },
  {
   "cell_type": "markdown",
   "metadata": {},
   "source": [
    "Verify TensorFlowLite model works"
   ]
  },
  {
   "cell_type": "code",
   "execution_count": 13,
   "metadata": {},
   "outputs": [
    {
     "name": "stdout",
     "output_type": "stream",
     "text": [
      "[{'name': 'data_input', 'index': 0, 'shape': array([   1, 1584]), 'shape_signature': array([  -1, 1584]), 'dtype': <class 'numpy.float32'>, 'quantization': (0.0, 0), 'quantization_parameters': {'scales': array([], dtype=float32), 'zero_points': array([], dtype=int32), 'quantized_dimension': 0}, 'sparsity_parameters': {}}]\n"
     ]
    }
   ],
   "source": [
    "interpreter = tf.lite.Interpreter(model_path='test_model.tflite')\n",
    "\n",
    "interpreter.allocate_tensors()\n",
    "\n",
    "input_details = interpreter.get_input_details()\n",
    "output_details = interpreter.get_output_details()\n",
    "\n",
    "print(input_details)"
   ]
  },
  {
   "cell_type": "code",
   "execution_count": 128,
   "metadata": {},
   "outputs": [
    {
     "data": {
      "text/plain": [
       "1584"
      ]
     },
     "execution_count": 128,
     "metadata": {},
     "output_type": "execute_result"
    }
   ],
   "source": [
    "testing_size = X_test[0].size"
   ]
  },
  {
   "cell_type": "code",
   "execution_count": 34,
   "metadata": {},
   "outputs": [
    {
     "name": "stdout",
     "output_type": "stream",
     "text": [
      "[[0.    0.004 0.    0.449 0.007 0.    0.    0.536 0.004 0.   ]]\n",
      "7\n"
     ]
    }
   ],
   "source": [
    "#Sometimes behaves weird if no resizing of array \n",
    "input_data = np.float32(np.resize(X_test[46], (1, testing_size)))\n",
    "interpreter.set_tensor(input_details[0]['index'], input_data)\n",
    "\n",
    "interpreter.invoke()\n",
    "\n",
    "output_data = interpreter.get_tensor(output_details[0]['index'])\n",
    "print(np.round(output_data, decimals=3))\n",
    "print(y_test[46])"
   ]
  },
  {
   "cell_type": "code",
   "execution_count": 26,
   "metadata": {},
   "outputs": [
    {
     "name": "stdout",
     "output_type": "stream",
     "text": [
      "Unsure\n",
      "46\n"
     ]
    }
   ],
   "source": [
    "for i in range(0, 113):\n",
    "    input_data = np.float32(np.resize(X_test[i], (1, testing_size))\n",
    "    interpreter.set_tensor(input_details[0]['index'], input_data)\n",
    "\n",
    "    interpreter.invoke()\n",
    "\n",
    "    output_data = interpreter.get_tensor(output_details[0]['index'])\n",
    "output_data"
   ]
  },
  {
   "cell_type": "code",
   "execution_count": 102,
   "metadata": {},
   "outputs": [
    {
     "data": {
      "text/plain": [
       "<sklearn.metrics._plot.confusion_matrix.ConfusionMatrixDisplay at 0x1bbd703a0d0>"
      ]
     },
     "execution_count": 102,
     "metadata": {},
     "output_type": "execute_result"
    },
    {
     "data": {
      "image/png": "[encoded data removed]",
      "text/plain": [
       "<Figure size 432x288 with 2 Axes>"
      ]
     },
     "metadata": {
      "needs_background": "light"
     },
     "output_type": "display_data"
    }
   ],
   "source": [
    "output_lbl = np.argmax(output, axis=1)\n",
    "test_lbl = y_test\n",
    "\n",
    "cm = confusion_matrix(test_lbl, output_lbl, normalize='true')\n",
    "disp = ConfusionMatrixDisplay(confusion_matrix=cm)\n",
    "disp.plot()"
   ]
  },
  {
   "cell_type": "markdown",
   "metadata": {},
   "source": [
    "## Train model on full data"
   ]
  },
  {
   "cell_type": "code",
   "execution_count": 152,
   "metadata": {
    "scrolled": true
   },
   "outputs": [
    {
     "name": "stdout",
     "output_type": "stream",
     "text": [
      "Epoch 1/600\n",
      "14/14 [==============================] - 1s 53ms/step - loss: 2.4136 - sparse_categorical_accuracy: 0.1182 - val_loss: 2.3188 - val_sparse_categorical_accuracy: 0.0964\n",
      "Epoch 2/600\n",
      "14/14 [==============================] - 1s 44ms/step - loss: 2.3183 - sparse_categorical_accuracy: 0.1795 - val_loss: 2.2308 - val_sparse_categorical_accuracy: 0.3855\n",
      "Epoch 3/600\n",
      "14/14 [==============================] - 1s 43ms/step - loss: 2.2644 - sparse_categorical_accuracy: 0.2364 - val_loss: 2.1301 - val_sparse_categorical_accuracy: 0.5422\n",
      "Epoch 4/600\n",
      "14/14 [==============================] - 1s 44ms/step - loss: 2.1839 - sparse_categorical_accuracy: 0.2750 - val_loss: 2.0414 - val_sparse_categorical_accuracy: 0.4699\n",
      "Epoch 5/600\n",
      "14/14 [==============================] - 1s 45ms/step - loss: 2.0822 - sparse_categorical_accuracy: 0.3386 - val_loss: 1.9238 - val_sparse_categorical_accuracy: 0.4337\n",
      "Epoch 6/600\n",
      "14/14 [==============================] - 1s 42ms/step - loss: 1.9834 - sparse_categorical_accuracy: 0.3500 - val_loss: 1.7453 - val_sparse_categorical_accuracy: 0.6627\n",
      "Epoch 7/600\n",
      "14/14 [==============================] - 1s 43ms/step - loss: 1.8176 - sparse_categorical_accuracy: 0.4568 - val_loss: 1.6470 - val_sparse_categorical_accuracy: 0.6145\n",
      "Epoch 8/600\n",
      "14/14 [==============================] - 1s 42ms/step - loss: 1.7097 - sparse_categorical_accuracy: 0.4773 - val_loss: 1.4899 - val_sparse_categorical_accuracy: 0.6747\n",
      "Epoch 9/600\n",
      "14/14 [==============================] - 1s 42ms/step - loss: 1.5979 - sparse_categorical_accuracy: 0.5000 - val_loss: 1.3879 - val_sparse_categorical_accuracy: 0.6145\n",
      "Epoch 10/600\n",
      "14/14 [==============================] - 1s 41ms/step - loss: 1.4863 - sparse_categorical_accuracy: 0.5455 - val_loss: 1.2934 - val_sparse_categorical_accuracy: 0.6627\n",
      "Epoch 11/600\n",
      "14/14 [==============================] - 1s 41ms/step - loss: 1.4094 - sparse_categorical_accuracy: 0.5500 - val_loss: 1.2204 - val_sparse_categorical_accuracy: 0.6867\n",
      "Epoch 12/600\n",
      "14/14 [==============================] - 1s 41ms/step - loss: 1.3096 - sparse_categorical_accuracy: 0.6045 - val_loss: 1.1370 - val_sparse_categorical_accuracy: 0.6988\n",
      "Epoch 13/600\n",
      "14/14 [==============================] - 1s 41ms/step - loss: 1.2300 - sparse_categorical_accuracy: 0.6136 - val_loss: 1.0459 - val_sparse_categorical_accuracy: 0.8193\n",
      "Epoch 14/600\n",
      "14/14 [==============================] - 1s 41ms/step - loss: 1.1253 - sparse_categorical_accuracy: 0.7023 - val_loss: 0.9365 - val_sparse_categorical_accuracy: 0.8072\n",
      "Epoch 15/600\n",
      "14/14 [==============================] - 1s 42ms/step - loss: 1.0548 - sparse_categorical_accuracy: 0.7159 - val_loss: 0.9031 - val_sparse_categorical_accuracy: 0.8072\n",
      "Epoch 16/600\n",
      "14/14 [==============================] - 1s 40ms/step - loss: 1.0513 - sparse_categorical_accuracy: 0.6977 - val_loss: 0.8833 - val_sparse_categorical_accuracy: 0.8072\n",
      "Epoch 17/600\n",
      "14/14 [==============================] - 1s 42ms/step - loss: 0.9253 - sparse_categorical_accuracy: 0.7750 - val_loss: 0.8205 - val_sparse_categorical_accuracy: 0.7952\n",
      "Epoch 18/600\n",
      "14/14 [==============================] - 1s 44ms/step - loss: 0.8965 - sparse_categorical_accuracy: 0.7614 - val_loss: 0.7010 - val_sparse_categorical_accuracy: 0.8675\n",
      "Epoch 19/600\n",
      "14/14 [==============================] - 1s 41ms/step - loss: 0.8054 - sparse_categorical_accuracy: 0.7773 - val_loss: 0.6556 - val_sparse_categorical_accuracy: 0.8916\n",
      "Epoch 20/600\n",
      "14/14 [==============================] - 1s 51ms/step - loss: 0.7887 - sparse_categorical_accuracy: 0.7932 - val_loss: 0.6251 - val_sparse_categorical_accuracy: 0.8675\n",
      "Epoch 21/600\n",
      "14/14 [==============================] - 1s 41ms/step - loss: 0.7565 - sparse_categorical_accuracy: 0.7909 - val_loss: 0.6027 - val_sparse_categorical_accuracy: 0.8554\n",
      "Epoch 22/600\n",
      "14/14 [==============================] - 1s 43ms/step - loss: 0.6607 - sparse_categorical_accuracy: 0.8364 - val_loss: 0.6126 - val_sparse_categorical_accuracy: 0.8072\n",
      "Epoch 23/600\n",
      "14/14 [==============================] - 1s 43ms/step - loss: 0.6697 - sparse_categorical_accuracy: 0.8318 - val_loss: 0.4820 - val_sparse_categorical_accuracy: 0.9157\n",
      "Epoch 24/600\n",
      "14/14 [==============================] - 1s 42ms/step - loss: 0.6106 - sparse_categorical_accuracy: 0.8273 - val_loss: 0.4946 - val_sparse_categorical_accuracy: 0.9157\n",
      "Epoch 25/600\n",
      "14/14 [==============================] - 1s 41ms/step - loss: 0.5545 - sparse_categorical_accuracy: 0.8750 - val_loss: 0.4328 - val_sparse_categorical_accuracy: 0.9036\n",
      "Epoch 26/600\n",
      "14/14 [==============================] - 1s 41ms/step - loss: 0.5373 - sparse_categorical_accuracy: 0.8568 - val_loss: 0.4526 - val_sparse_categorical_accuracy: 0.9036\n",
      "Epoch 27/600\n",
      "14/14 [==============================] - 1s 42ms/step - loss: 0.5054 - sparse_categorical_accuracy: 0.8705 - val_loss: 0.4272 - val_sparse_categorical_accuracy: 0.9036\n",
      "Epoch 28/600\n",
      "14/14 [==============================] - 1s 43ms/step - loss: 0.4583 - sparse_categorical_accuracy: 0.8909 - val_loss: 0.3917 - val_sparse_categorical_accuracy: 0.9036\n",
      "Epoch 29/600\n",
      "14/14 [==============================] - 1s 41ms/step - loss: 0.4480 - sparse_categorical_accuracy: 0.8909 - val_loss: 0.3614 - val_sparse_categorical_accuracy: 0.8916\n",
      "Epoch 30/600\n",
      "14/14 [==============================] - 1s 47ms/step - loss: 0.4158 - sparse_categorical_accuracy: 0.9091 - val_loss: 0.3220 - val_sparse_categorical_accuracy: 0.9277\n",
      "Epoch 31/600\n",
      "14/14 [==============================] - 1s 40ms/step - loss: 0.3748 - sparse_categorical_accuracy: 0.9136 - val_loss: 0.3215 - val_sparse_categorical_accuracy: 0.9157\n",
      "Epoch 32/600\n",
      "14/14 [==============================] - 1s 41ms/step - loss: 0.3760 - sparse_categorical_accuracy: 0.9045 - val_loss: 0.3073 - val_sparse_categorical_accuracy: 0.9036\n",
      "Epoch 33/600\n",
      "14/14 [==============================] - 1s 42ms/step - loss: 0.3757 - sparse_categorical_accuracy: 0.9068 - val_loss: 0.3424 - val_sparse_categorical_accuracy: 0.8795\n",
      "Epoch 34/600\n",
      "14/14 [==============================] - 1s 43ms/step - loss: 0.3547 - sparse_categorical_accuracy: 0.9091 - val_loss: 0.2906 - val_sparse_categorical_accuracy: 0.9277\n",
      "Epoch 35/600\n",
      "14/14 [==============================] - 1s 41ms/step - loss: 0.3564 - sparse_categorical_accuracy: 0.9114 - val_loss: 0.3024 - val_sparse_categorical_accuracy: 0.9036\n",
      "Epoch 36/600\n",
      "14/14 [==============================] - 1s 52ms/step - loss: 0.3443 - sparse_categorical_accuracy: 0.9136 - val_loss: 0.3116 - val_sparse_categorical_accuracy: 0.8916\n",
      "Epoch 37/600\n",
      "14/14 [==============================] - 1s 42ms/step - loss: 0.2853 - sparse_categorical_accuracy: 0.9364 - val_loss: 0.3118 - val_sparse_categorical_accuracy: 0.8916\n",
      "Epoch 38/600\n",
      "14/14 [==============================] - 1s 42ms/step - loss: 0.3007 - sparse_categorical_accuracy: 0.9295 - val_loss: 0.2460 - val_sparse_categorical_accuracy: 0.9277\n",
      "Epoch 39/600\n",
      "14/14 [==============================] - 1s 41ms/step - loss: 0.3042 - sparse_categorical_accuracy: 0.9159 - val_loss: 0.3621 - val_sparse_categorical_accuracy: 0.8795\n",
      "Epoch 40/600\n",
      "14/14 [==============================] - 1s 42ms/step - loss: 0.3007 - sparse_categorical_accuracy: 0.9227 - val_loss: 0.2298 - val_sparse_categorical_accuracy: 0.9398\n",
      "Epoch 41/600\n",
      "14/14 [==============================] - 1s 42ms/step - loss: 0.2499 - sparse_categorical_accuracy: 0.9364 - val_loss: 0.3131 - val_sparse_categorical_accuracy: 0.9036\n",
      "Epoch 42/600\n",
      "14/14 [==============================] - 1s 43ms/step - loss: 0.2880 - sparse_categorical_accuracy: 0.9205 - val_loss: 0.2669 - val_sparse_categorical_accuracy: 0.9518\n",
      "Epoch 43/600\n",
      "14/14 [==============================] - 1s 41ms/step - loss: 0.3043 - sparse_categorical_accuracy: 0.9091 - val_loss: 0.2572 - val_sparse_categorical_accuracy: 0.9277\n",
      "Epoch 44/600\n",
      "14/14 [==============================] - 1s 42ms/step - loss: 0.2335 - sparse_categorical_accuracy: 0.9295 - val_loss: 0.2254 - val_sparse_categorical_accuracy: 0.9398\n",
      "Epoch 45/600\n",
      "14/14 [==============================] - 1s 41ms/step - loss: 0.2313 - sparse_categorical_accuracy: 0.9455 - val_loss: 0.2164 - val_sparse_categorical_accuracy: 0.9036\n",
      "Epoch 46/600\n",
      "14/14 [==============================] - 1s 42ms/step - loss: 0.2550 - sparse_categorical_accuracy: 0.9295 - val_loss: 0.2254 - val_sparse_categorical_accuracy: 0.9157\n",
      "Epoch 47/600\n",
      "14/14 [==============================] - 1s 40ms/step - loss: 0.2288 - sparse_categorical_accuracy: 0.9477 - val_loss: 0.2366 - val_sparse_categorical_accuracy: 0.9036\n",
      "Epoch 48/600\n",
      "14/14 [==============================] - 1s 42ms/step - loss: 0.2280 - sparse_categorical_accuracy: 0.9318 - val_loss: 0.2111 - val_sparse_categorical_accuracy: 0.9398\n",
      "Epoch 49/600\n",
      "14/14 [==============================] - 1s 39ms/step - loss: 0.1904 - sparse_categorical_accuracy: 0.9591 - val_loss: 0.1898 - val_sparse_categorical_accuracy: 0.9277\n",
      "Epoch 50/600\n",
      "14/14 [==============================] - 1s 39ms/step - loss: 0.2215 - sparse_categorical_accuracy: 0.9341 - val_loss: 0.1932 - val_sparse_categorical_accuracy: 0.9036\n",
      "Epoch 51/600\n",
      "14/14 [==============================] - 1s 40ms/step - loss: 0.2009 - sparse_categorical_accuracy: 0.9591 - val_loss: 0.2194 - val_sparse_categorical_accuracy: 0.9398\n",
      "Epoch 52/600\n",
      "14/14 [==============================] - 1s 41ms/step - loss: 0.2203 - sparse_categorical_accuracy: 0.9386 - val_loss: 0.1909 - val_sparse_categorical_accuracy: 0.9398\n",
      "Epoch 53/600\n",
      "14/14 [==============================] - 1s 40ms/step - loss: 0.2121 - sparse_categorical_accuracy: 0.9386 - val_loss: 0.1779 - val_sparse_categorical_accuracy: 0.9398\n",
      "Epoch 54/600\n",
      "14/14 [==============================] - 1s 40ms/step - loss: 0.2067 - sparse_categorical_accuracy: 0.9523 - val_loss: 0.1844 - val_sparse_categorical_accuracy: 0.9036\n",
      "Epoch 55/600\n",
      "14/14 [==============================] - 1s 40ms/step - loss: 0.1592 - sparse_categorical_accuracy: 0.9636 - val_loss: 0.2041 - val_sparse_categorical_accuracy: 0.9277\n",
      "Epoch 56/600\n",
      "14/14 [==============================] - 1s 41ms/step - loss: 0.1671 - sparse_categorical_accuracy: 0.9500 - val_loss: 0.1681 - val_sparse_categorical_accuracy: 0.9036\n",
      "Epoch 57/600\n",
      "14/14 [==============================] - 1s 40ms/step - loss: 0.1763 - sparse_categorical_accuracy: 0.9591 - val_loss: 0.1390 - val_sparse_categorical_accuracy: 0.9398\n",
      "Epoch 58/600\n",
      "14/14 [==============================] - 1s 42ms/step - loss: 0.1401 - sparse_categorical_accuracy: 0.9750 - val_loss: 0.1505 - val_sparse_categorical_accuracy: 0.9398\n",
      "Epoch 59/600\n",
      "14/14 [==============================] - 1s 40ms/step - loss: 0.1400 - sparse_categorical_accuracy: 0.9727 - val_loss: 0.1902 - val_sparse_categorical_accuracy: 0.9518\n",
      "Epoch 60/600\n",
      "14/14 [==============================] - 1s 42ms/step - loss: 0.1595 - sparse_categorical_accuracy: 0.9545 - val_loss: 0.1962 - val_sparse_categorical_accuracy: 0.9398\n",
      "Epoch 61/600\n",
      "14/14 [==============================] - 1s 43ms/step - loss: 0.1975 - sparse_categorical_accuracy: 0.9364 - val_loss: 0.2150 - val_sparse_categorical_accuracy: 0.9277\n",
      "Epoch 62/600\n",
      "14/14 [==============================] - 1s 43ms/step - loss: 0.1765 - sparse_categorical_accuracy: 0.9432 - val_loss: 0.3131 - val_sparse_categorical_accuracy: 0.8916\n",
      "Epoch 63/600\n",
      "14/14 [==============================] - 1s 44ms/step - loss: 0.1800 - sparse_categorical_accuracy: 0.9455 - val_loss: 0.2216 - val_sparse_categorical_accuracy: 0.9398\n",
      "Epoch 64/600\n",
      "14/14 [==============================] - 1s 45ms/step - loss: 0.1621 - sparse_categorical_accuracy: 0.9545 - val_loss: 0.1617 - val_sparse_categorical_accuracy: 0.9277\n",
      "Epoch 65/600\n",
      "14/14 [==============================] - 1s 41ms/step - loss: 0.1421 - sparse_categorical_accuracy: 0.9591 - val_loss: 0.1371 - val_sparse_categorical_accuracy: 0.9518\n",
      "Epoch 66/600\n",
      "14/14 [==============================] - 1s 41ms/step - loss: 0.1486 - sparse_categorical_accuracy: 0.9591 - val_loss: 0.1300 - val_sparse_categorical_accuracy: 0.9398\n",
      "Epoch 67/600\n",
      "14/14 [==============================] - 1s 41ms/step - loss: 0.1561 - sparse_categorical_accuracy: 0.9614 - val_loss: 0.1367 - val_sparse_categorical_accuracy: 0.9639\n",
      "Epoch 68/600\n",
      "14/14 [==============================] - 1s 41ms/step - loss: 0.1212 - sparse_categorical_accuracy: 0.9705 - val_loss: 0.1375 - val_sparse_categorical_accuracy: 0.9518\n",
      "Epoch 69/600\n",
      "14/14 [==============================] - 1s 42ms/step - loss: 0.1069 - sparse_categorical_accuracy: 0.9750 - val_loss: 0.1326 - val_sparse_categorical_accuracy: 0.9518\n",
      "Epoch 70/600\n",
      "14/14 [==============================] - 1s 42ms/step - loss: 0.1152 - sparse_categorical_accuracy: 0.9727 - val_loss: 0.1179 - val_sparse_categorical_accuracy: 0.9639\n",
      "Epoch 71/600\n",
      "14/14 [==============================] - 1s 42ms/step - loss: 0.1154 - sparse_categorical_accuracy: 0.9727 - val_loss: 0.1289 - val_sparse_categorical_accuracy: 0.9639\n",
      "Epoch 72/600\n",
      "14/14 [==============================] - 1s 40ms/step - loss: 0.1092 - sparse_categorical_accuracy: 0.9773 - val_loss: 0.1126 - val_sparse_categorical_accuracy: 0.9759\n",
      "Epoch 73/600\n",
      "14/14 [==============================] - 1s 42ms/step - loss: 0.1021 - sparse_categorical_accuracy: 0.9773 - val_loss: 0.1430 - val_sparse_categorical_accuracy: 0.9639\n",
      "Epoch 74/600\n",
      "14/14 [==============================] - 1s 43ms/step - loss: 0.1043 - sparse_categorical_accuracy: 0.9750 - val_loss: 0.1552 - val_sparse_categorical_accuracy: 0.9518\n",
      "Epoch 75/600\n",
      "14/14 [==============================] - 1s 42ms/step - loss: 0.1101 - sparse_categorical_accuracy: 0.9682 - val_loss: 0.1238 - val_sparse_categorical_accuracy: 0.9398\n",
      "Epoch 76/600\n",
      "14/14 [==============================] - 1s 45ms/step - loss: 0.0977 - sparse_categorical_accuracy: 0.9705 - val_loss: 0.1259 - val_sparse_categorical_accuracy: 0.9518\n",
      "Epoch 77/600\n",
      "14/14 [==============================] - 1s 43ms/step - loss: 0.1077 - sparse_categorical_accuracy: 0.9795 - val_loss: 0.1362 - val_sparse_categorical_accuracy: 0.9518\n",
      "Epoch 78/600\n",
      "14/14 [==============================] - 1s 42ms/step - loss: 0.0898 - sparse_categorical_accuracy: 0.9818 - val_loss: 0.1354 - val_sparse_categorical_accuracy: 0.9518\n",
      "Epoch 79/600\n",
      "14/14 [==============================] - 1s 43ms/step - loss: 0.0899 - sparse_categorical_accuracy: 0.9773 - val_loss: 0.0982 - val_sparse_categorical_accuracy: 0.9759\n",
      "Epoch 80/600\n",
      "14/14 [==============================] - 1s 42ms/step - loss: 0.1149 - sparse_categorical_accuracy: 0.9568 - val_loss: 0.1288 - val_sparse_categorical_accuracy: 0.9518\n",
      "Epoch 81/600\n",
      "14/14 [==============================] - 1s 44ms/step - loss: 0.1130 - sparse_categorical_accuracy: 0.9682 - val_loss: 0.1224 - val_sparse_categorical_accuracy: 0.9759\n",
      "Epoch 82/600\n",
      "14/14 [==============================] - 1s 47ms/step - loss: 0.0744 - sparse_categorical_accuracy: 0.9886 - val_loss: 0.1454 - val_sparse_categorical_accuracy: 0.9759\n",
      "Epoch 83/600\n",
      "14/14 [==============================] - 1s 46ms/step - loss: 0.1219 - sparse_categorical_accuracy: 0.9682 - val_loss: 0.1396 - val_sparse_categorical_accuracy: 0.9639\n",
      "Epoch 84/600\n",
      "14/14 [==============================] - 1s 43ms/step - loss: 0.1225 - sparse_categorical_accuracy: 0.9614 - val_loss: 0.1411 - val_sparse_categorical_accuracy: 0.9518\n",
      "Epoch 85/600\n",
      "14/14 [==============================] - 1s 52ms/step - loss: 0.1164 - sparse_categorical_accuracy: 0.9659 - val_loss: 0.1710 - val_sparse_categorical_accuracy: 0.9398\n",
      "Epoch 86/600\n",
      "14/14 [==============================] - 1s 59ms/step - loss: 0.1095 - sparse_categorical_accuracy: 0.9659 - val_loss: 0.1153 - val_sparse_categorical_accuracy: 0.9880\n",
      "Epoch 87/600\n",
      "14/14 [==============================] - 1s 61ms/step - loss: 0.1143 - sparse_categorical_accuracy: 0.9523 - val_loss: 0.1390 - val_sparse_categorical_accuracy: 0.9518\n",
      "Epoch 88/600\n",
      "14/14 [==============================] - 1s 58ms/step - loss: 0.1031 - sparse_categorical_accuracy: 0.9750 - val_loss: 0.1161 - val_sparse_categorical_accuracy: 0.9639\n",
      "Epoch 89/600\n",
      "14/14 [==============================] - 1s 57ms/step - loss: 0.0931 - sparse_categorical_accuracy: 0.9636 - val_loss: 0.1871 - val_sparse_categorical_accuracy: 0.9398\n",
      "Epoch 90/600\n",
      "14/14 [==============================] - 1s 49ms/step - loss: 0.1074 - sparse_categorical_accuracy: 0.9682 - val_loss: 0.0970 - val_sparse_categorical_accuracy: 0.9639\n",
      "Epoch 91/600\n"
     ]
    },
    {
     "name": "stdout",
     "output_type": "stream",
     "text": [
      "14/14 [==============================] - 1s 42ms/step - loss: 0.0986 - sparse_categorical_accuracy: 0.9682 - val_loss: 0.1165 - val_sparse_categorical_accuracy: 0.9639\n",
      "Epoch 92/600\n",
      "14/14 [==============================] - 1s 47ms/step - loss: 0.0982 - sparse_categorical_accuracy: 0.9682 - val_loss: 0.1115 - val_sparse_categorical_accuracy: 0.9759\n",
      "Epoch 93/600\n",
      "14/14 [==============================] - 1s 53ms/step - loss: 0.0825 - sparse_categorical_accuracy: 0.9727 - val_loss: 0.1281 - val_sparse_categorical_accuracy: 0.9518\n",
      "Epoch 94/600\n",
      "14/14 [==============================] - 1s 54ms/step - loss: 0.0885 - sparse_categorical_accuracy: 0.9795 - val_loss: 0.1107 - val_sparse_categorical_accuracy: 0.9639\n",
      "Epoch 95/600\n",
      "14/14 [==============================] - 1s 54ms/step - loss: 0.0502 - sparse_categorical_accuracy: 0.9886 - val_loss: 0.1128 - val_sparse_categorical_accuracy: 0.9759\n",
      "Epoch 96/600\n",
      "14/14 [==============================] - 1s 44ms/step - loss: 0.0778 - sparse_categorical_accuracy: 0.9773 - val_loss: 0.1303 - val_sparse_categorical_accuracy: 0.9759\n",
      "Epoch 97/600\n",
      "14/14 [==============================] - 1s 48ms/step - loss: 0.0597 - sparse_categorical_accuracy: 0.9909 - val_loss: 0.0939 - val_sparse_categorical_accuracy: 0.9759\n",
      "Epoch 98/600\n",
      "14/14 [==============================] - 1s 44ms/step - loss: 0.0570 - sparse_categorical_accuracy: 0.9909 - val_loss: 0.1491 - val_sparse_categorical_accuracy: 0.9639\n",
      "Epoch 99/600\n",
      "14/14 [==============================] - 1s 42ms/step - loss: 0.0811 - sparse_categorical_accuracy: 0.9750 - val_loss: 0.0994 - val_sparse_categorical_accuracy: 0.9639\n",
      "Epoch 100/600\n",
      "14/14 [==============================] - 1s 43ms/step - loss: 0.0641 - sparse_categorical_accuracy: 0.9841 - val_loss: 0.0878 - val_sparse_categorical_accuracy: 0.9759\n",
      "Epoch 101/600\n",
      "14/14 [==============================] - 1s 43ms/step - loss: 0.0434 - sparse_categorical_accuracy: 0.9909 - val_loss: 0.1320 - val_sparse_categorical_accuracy: 0.9759\n",
      "Epoch 102/600\n",
      "14/14 [==============================] - 1s 42ms/step - loss: 0.0740 - sparse_categorical_accuracy: 0.9750 - val_loss: 0.1127 - val_sparse_categorical_accuracy: 0.9639\n",
      "Epoch 103/600\n",
      "14/14 [==============================] - 1s 42ms/step - loss: 0.0774 - sparse_categorical_accuracy: 0.9727 - val_loss: 0.1090 - val_sparse_categorical_accuracy: 0.9639\n",
      "Epoch 104/600\n",
      "14/14 [==============================] - 1s 44ms/step - loss: 0.0543 - sparse_categorical_accuracy: 0.9841 - val_loss: 0.1030 - val_sparse_categorical_accuracy: 0.9759\n",
      "Epoch 105/600\n",
      "14/14 [==============================] - 1s 44ms/step - loss: 0.0613 - sparse_categorical_accuracy: 0.9773 - val_loss: 0.1181 - val_sparse_categorical_accuracy: 0.9759\n",
      "Epoch 106/600\n",
      "14/14 [==============================] - 1s 41ms/step - loss: 0.0593 - sparse_categorical_accuracy: 0.9818 - val_loss: 0.0878 - val_sparse_categorical_accuracy: 0.9880\n",
      "Epoch 107/600\n",
      "14/14 [==============================] - 1s 43ms/step - loss: 0.0637 - sparse_categorical_accuracy: 0.9841 - val_loss: 0.1520 - val_sparse_categorical_accuracy: 0.9759\n",
      "Epoch 108/600\n",
      "14/14 [==============================] - 1s 42ms/step - loss: 0.0553 - sparse_categorical_accuracy: 0.9818 - val_loss: 0.0834 - val_sparse_categorical_accuracy: 0.9639\n",
      "Epoch 109/600\n",
      "14/14 [==============================] - 1s 42ms/step - loss: 0.0398 - sparse_categorical_accuracy: 0.9932 - val_loss: 0.1707 - val_sparse_categorical_accuracy: 0.9518\n",
      "Epoch 110/600\n",
      "14/14 [==============================] - 1s 41ms/step - loss: 0.0705 - sparse_categorical_accuracy: 0.9818 - val_loss: 0.1404 - val_sparse_categorical_accuracy: 0.9639\n",
      "Epoch 111/600\n",
      "14/14 [==============================] - 1s 42ms/step - loss: 0.0519 - sparse_categorical_accuracy: 0.9841 - val_loss: 0.0759 - val_sparse_categorical_accuracy: 0.9759\n",
      "Epoch 112/600\n",
      "14/14 [==============================] - 1s 40ms/step - loss: 0.0644 - sparse_categorical_accuracy: 0.9773 - val_loss: 0.1117 - val_sparse_categorical_accuracy: 0.9759\n",
      "Epoch 113/600\n",
      "14/14 [==============================] - 1s 42ms/step - loss: 0.0619 - sparse_categorical_accuracy: 0.9795 - val_loss: 0.1453 - val_sparse_categorical_accuracy: 0.9759\n",
      "Epoch 114/600\n",
      "14/14 [==============================] - 1s 46ms/step - loss: 0.0671 - sparse_categorical_accuracy: 0.9795 - val_loss: 0.1077 - val_sparse_categorical_accuracy: 0.9759\n",
      "Epoch 115/600\n",
      "14/14 [==============================] - 1s 45ms/step - loss: 0.0759 - sparse_categorical_accuracy: 0.9750 - val_loss: 0.0985 - val_sparse_categorical_accuracy: 0.9759\n",
      "Epoch 116/600\n",
      "14/14 [==============================] - 1s 42ms/step - loss: 0.0510 - sparse_categorical_accuracy: 0.9909 - val_loss: 0.1158 - val_sparse_categorical_accuracy: 0.9759\n",
      "Epoch 117/600\n",
      "14/14 [==============================] - 1s 43ms/step - loss: 0.0616 - sparse_categorical_accuracy: 0.9795 - val_loss: 0.1248 - val_sparse_categorical_accuracy: 0.9639\n",
      "Epoch 118/600\n",
      "14/14 [==============================] - 1s 43ms/step - loss: 0.0581 - sparse_categorical_accuracy: 0.9795 - val_loss: 0.1041 - val_sparse_categorical_accuracy: 0.9759\n",
      "Epoch 119/600\n",
      "14/14 [==============================] - 1s 41ms/step - loss: 0.0586 - sparse_categorical_accuracy: 0.9886 - val_loss: 0.1241 - val_sparse_categorical_accuracy: 0.9639\n",
      "Epoch 120/600\n",
      "14/14 [==============================] - 1s 42ms/step - loss: 0.0660 - sparse_categorical_accuracy: 0.9750 - val_loss: 0.1180 - val_sparse_categorical_accuracy: 0.9759\n",
      "Epoch 121/600\n",
      "14/14 [==============================] - 1s 42ms/step - loss: 0.0399 - sparse_categorical_accuracy: 0.9932 - val_loss: 0.0883 - val_sparse_categorical_accuracy: 0.9759\n",
      "Epoch 122/600\n",
      "14/14 [==============================] - 1s 45ms/step - loss: 0.0359 - sparse_categorical_accuracy: 0.9909 - val_loss: 0.1134 - val_sparse_categorical_accuracy: 0.9639\n",
      "Epoch 123/600\n",
      "14/14 [==============================] - 1s 42ms/step - loss: 0.0466 - sparse_categorical_accuracy: 0.9864 - val_loss: 0.0794 - val_sparse_categorical_accuracy: 0.9880\n",
      "Epoch 124/600\n",
      "14/14 [==============================] - 1s 43ms/step - loss: 0.0378 - sparse_categorical_accuracy: 0.9864 - val_loss: 0.1494 - val_sparse_categorical_accuracy: 0.9759\n",
      "Epoch 125/600\n",
      "14/14 [==============================] - 1s 42ms/step - loss: 0.0435 - sparse_categorical_accuracy: 0.9909 - val_loss: 0.0790 - val_sparse_categorical_accuracy: 0.9880\n",
      "Epoch 126/600\n",
      "14/14 [==============================] - 1s 42ms/step - loss: 0.0559 - sparse_categorical_accuracy: 0.9795 - val_loss: 0.0955 - val_sparse_categorical_accuracy: 0.9880\n",
      "Epoch 127/600\n",
      "14/14 [==============================] - 1s 48ms/step - loss: 0.0437 - sparse_categorical_accuracy: 0.9841 - val_loss: 0.1269 - val_sparse_categorical_accuracy: 0.9759\n",
      "Epoch 128/600\n",
      "14/14 [==============================] - 1s 49ms/step - loss: 0.0567 - sparse_categorical_accuracy: 0.9864 - val_loss: 0.1218 - val_sparse_categorical_accuracy: 0.9639\n",
      "Epoch 129/600\n",
      "14/14 [==============================] - 1s 51ms/step - loss: 0.0565 - sparse_categorical_accuracy: 0.9818 - val_loss: 0.0896 - val_sparse_categorical_accuracy: 0.9639\n",
      "Epoch 130/600\n",
      "14/14 [==============================] - 1s 59ms/step - loss: 0.0438 - sparse_categorical_accuracy: 0.9909 - val_loss: 0.1239 - val_sparse_categorical_accuracy: 0.9759\n",
      "Epoch 131/600\n",
      "14/14 [==============================] - 1s 58ms/step - loss: 0.0713 - sparse_categorical_accuracy: 0.9886 - val_loss: 0.0907 - val_sparse_categorical_accuracy: 0.9759\n",
      "Epoch 132/600\n",
      "14/14 [==============================] - 1s 59ms/step - loss: 0.0499 - sparse_categorical_accuracy: 0.9909 - val_loss: 0.0911 - val_sparse_categorical_accuracy: 0.9880\n",
      "Epoch 133/600\n",
      "14/14 [==============================] - 1s 59ms/step - loss: 0.0538 - sparse_categorical_accuracy: 0.9864 - val_loss: 0.0997 - val_sparse_categorical_accuracy: 0.9880\n",
      "Epoch 134/600\n",
      "14/14 [==============================] - 1s 54ms/step - loss: 0.0463 - sparse_categorical_accuracy: 0.9864 - val_loss: 0.1177 - val_sparse_categorical_accuracy: 0.9759\n",
      "Epoch 135/600\n",
      "14/14 [==============================] - 1s 46ms/step - loss: 0.0285 - sparse_categorical_accuracy: 0.9977 - val_loss: 0.1163 - val_sparse_categorical_accuracy: 0.9759\n",
      "Epoch 136/600\n",
      "14/14 [==============================] - 1s 46ms/step - loss: 0.0346 - sparse_categorical_accuracy: 0.9932 - val_loss: 0.1042 - val_sparse_categorical_accuracy: 0.9759\n",
      "INFO:tensorflow:Assets written to: C:\\Users\\andre\\AppData\\Local\\Temp\\tmp2e0mnc20\\assets\n"
     ]
    },
    {
     "name": "stderr",
     "output_type": "stream",
     "text": [
      "INFO:tensorflow:Assets written to: C:\\Users\\andre\\AppData\\Local\\Temp\\tmp2e0mnc20\\assets\n"
     ]
    }
   ],
   "source": [
    "from sklearn.model_selection import StratifiedShuffleSplit\n",
    "from tensorflow import keras\n",
    "from tensorflow.keras import layers, callbacks\n",
    "\n",
    "opt = tf.keras.optimizers.Adam(learning_rate=0.0001)\n",
    "model = None\n",
    "model = tf.keras.Sequential()\n",
    "model.add(tf.keras.layers.Dense(1024, activation='relu', name='data')) # relu is used for performance\n",
    "model.add(tf.keras.layers.Dropout(0.25))\n",
    "model.add(tf.keras.layers.Dense(1024, activation='relu'))\n",
    "model.add(tf.keras.layers.Dropout(0.25))\n",
    "model.add(tf.keras.layers.Dense(1024, activation='relu'))\n",
    "model.add(tf.keras.layers.Dropout(0.25))\n",
    "model.add(tf.keras.layers.Dense(len(gestures), activation='softmax', name='result'))\n",
    "model.compile(optimizer=opt, loss=tf.keras.losses.SparseCategoricalCrossentropy(), metrics=[tf.keras.metrics.SparseCategoricalAccuracy()])\n",
    "\n",
    "early_stopping = callbacks.EarlyStopping(\n",
    "    monitor='val_loss',\n",
    "    min_delta=0.0001, # minimium amount of change to count as an improvement\n",
    "    patience=25, # how many epochs to wait before stopping\n",
    "    restore_best_weights=True,\n",
    "    )\n",
    "\n",
    "\n",
    "\n",
    "testsplit = StratifiedShuffleSplit(n_splits = 1, test_size = 0.2)\n",
    "\n",
    "for train_index, test_index in testsplit.split(formatwavedata, labels):\n",
    "    X_train, X_test = formatwavedata[train_index], formatwavedata[test_index]\n",
    "    y_train, y_test = labels[train_index], labels[test_index]\n",
    "\n",
    "history = model.fit(X_train, y_train, \n",
    "                    epochs=600,\n",
    "                    batch_size=32,\n",
    "                    callbacks=[early_stopping],\n",
    "                    validation_data=(X_val, y_val),\n",
    "                    verbose=1)\n",
    "\n",
    "converter = tf.lite.TFLiteConverter.from_keras_model(model)\n",
    "tflite_model = converter.convert()\n",
    "\n",
    "with open('number_model.tflite', 'wb') as f:\n",
    "  f.write(tflite_model)\n"
   ]
  },
  {
   "cell_type": "code",
   "execution_count": 153,
   "metadata": {
    "scrolled": true
   },
   "outputs": [
    {
     "name": "stdout",
     "output_type": "stream",
     "text": [
      "3/3 [==============================] - 0s 18ms/step - loss: 0.0759 - sparse_categorical_accuracy: 0.9759\n"
     ]
    },
    {
     "data": {
      "text/plain": [
       "<sklearn.metrics._plot.confusion_matrix.ConfusionMatrixDisplay at 0x1ab998e1340>"
      ]
     },
     "execution_count": 153,
     "metadata": {},
     "output_type": "execute_result"
    },
    {
     "data": {
      "image/png": "[encoded data removed]",
      "text/plain": [
       "<Figure size 432x288 with 2 Axes>"
      ]
     },
     "metadata": {
      "needs_background": "light"
     },
     "output_type": "display_data"
    }
   ],
   "source": [
    "model.evaluate(X_val, y_val)\n",
    "\n",
    "from sklearn.metrics import confusion_matrix, ConfusionMatrixDisplay\n",
    "\n",
    "prediction = model.predict(X_val)\n",
    "prediction\n",
    "\n",
    "prediction_lbl = np.argmax(prediction, axis=1)\n",
    "test_lbl = y_val\n",
    "\n",
    "cm = confusion_matrix(test_lbl, prediction_lbl, normalize='true')\n",
    "disp = ConfusionMatrixDisplay(confusion_matrix=cm)\n",
    "disp.plot()"
   ]
  }
 ],
 "metadata": {
  "kernelspec": {
   "display_name": "Python 3",
   "language": "python",
   "name": "python3"
  },
  "language_info": {
   "codemirror_mode": {
    "name": "ipython",
    "version": 3
   },
   "file_extension": ".py",
   "mimetype": "text/x-python",
   "name": "python",
   "nbconvert_exporter": "python",
   "pygments_lexer": "ipython3",
   "version": "3.8.5"
  }
 },
 "nbformat": 4,
 "nbformat_minor": 4
}
